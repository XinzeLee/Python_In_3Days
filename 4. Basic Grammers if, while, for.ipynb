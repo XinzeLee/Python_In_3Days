{
 "cells": [
  {
   "cell_type": "markdown",
   "id": "8d5e25f4",
   "metadata": {},
   "source": [
    "# 4.1 if"
   ]
  },
  {
   "cell_type": "code",
   "execution_count": 1,
   "id": "87f20114",
   "metadata": {},
   "outputs": [
    {
     "name": "stdout",
     "output_type": "stream",
     "text": [
      "This is the 0th trying.\n",
      "Enter 1\n",
      "This is the 1th trying.\n",
      "Enter 2\n",
      "This is the 2th trying.\n",
      "Enter 4\n",
      "This is the 3th trying.\n",
      "Enter 4\n",
      "This is the 4th trying.\n",
      "Enter 4\n",
      "This is the 5th trying.\n",
      "Enter 3\n",
      "This is the 6th trying.\n",
      "Enter 4\n",
      "This is the 7th trying.\n",
      "Enter 1\n",
      "\n",
      "\n",
      "{0: 1, 1: 2, 2: 3, 3: 4}\n",
      "This is the 0th trying.\n",
      "Enter 3\n",
      "This is the 1th trying.\n",
      "Enter 1\n",
      "This is the 2th trying.\n",
      "Enter 4\n",
      "This is the 3th trying.\n",
      "Enter 1\n",
      "This is the 4th trying.\n",
      "Enter 1\n",
      "This is the 5th trying.\n",
      "Enter 4\n",
      "This is the 6th trying.\n",
      "Enter 4\n",
      "This is the 7th trying.\n",
      "Enter 3\n"
     ]
    }
   ],
   "source": [
    "# if normal usage\n",
    "\n",
    "import random\n",
    "\n",
    "for i in range(8):\n",
    "    print(f'This is the {i}th trying.')\n",
    "    if random.randint(0, 3)==0:\n",
    "        print('Enter 1')\n",
    "    elif random.randint(0, 3)==1:\n",
    "        print('Enter 2')\n",
    "    elif random.randint(0, 3)==2:\n",
    "        print('Enter 3')\n",
    "    else:\n",
    "        print('Enter 4')\n",
    "print('\\n')\n",
    "\n",
    "# Consecutive \"if ... elif ... else\" is too complicate, use \"dict\" to simplify\n",
    "func = lambda x: print(f'Enter {x}')\n",
    "dict_map = {key:value for key, value in enumerate(range(1, 5))}\n",
    "print(dict_map)\n",
    "for i in range(8):\n",
    "    print(f'This is the {i}th trying.')\n",
    "    func(dict_map[random.randint(0, 3)])"
   ]
  },
  {
   "cell_type": "code",
   "execution_count": 2,
   "id": "4cb67fde",
   "metadata": {},
   "outputs": [
    {
     "name": "stdout",
     "output_type": "stream",
     "text": [
      "[0, 3, 6, 9, 12, 15, 18]\n",
      "(0, 3, 6, 9, 12, 15, 18)\n",
      "{'a': 0, 'c': 2, 'e': 4, 'g': 6}\n",
      "\n",
      "\n",
      "[0, 2, 3, 3, 5, 6, 6, 8, 9, 9, 11, 12, 12, 14, 15, 15, 17, 18, 18, 20]\n",
      "(0, 2, 3, 3, 5, 6, 6, 8, 9, 9, 11, 12, 12, 14, 15, 15, 17, 18, 18, 20)\n",
      "{'a': 0, 'B': 1, 'c': 2, 'D': 3, 'e': 4, 'F': 5, 'g': 6}\n"
     ]
    }
   ],
   "source": [
    "# if in list, tuple, dict comprehensions, used for filtering elements\n",
    "list1 = [i for i in range(20) if i % 3 == 0]\n",
    "tuple1 = tuple(i for i in range(20) if i % 3 == 0)\n",
    "keys = \"abcdefg\"\n",
    "dict1 = dict((key, value) for key, value in zip(keys, range(len(keys))) if (value%2==0))\n",
    "print(list1)\n",
    "print(tuple1)\n",
    "print(dict1)\n",
    "print('\\n')\n",
    "\n",
    "# if else 一起用在list 和 tuple comprehension中\n",
    "list1 = [i if (i % 3 == 0) else i+1 for i in range(20)]\n",
    "tuple1 = tuple(i if (i % 3 == 0) else i+1 for i in range(20))\n",
    "keys = \"abcdefg\"\n",
    "dict1 = dict((key, value) if (value%2==0) else (key.upper(), value) for key, value in zip(keys, range(len(keys))))\n",
    "print(list1)\n",
    "print(tuple1)\n",
    "print(dict1)"
   ]
  },
  {
   "cell_type": "code",
   "execution_count": 3,
   "id": "ff3f685f",
   "metadata": {},
   "outputs": [
    {
     "name": "stdout",
     "output_type": "stream",
     "text": [
      "The 0th epoch.\n",
      "Random value is 0.37198\n",
      "The 1th epoch.\n",
      "Random value is 0.71385, break\n",
      "\n",
      "\n",
      "0\n",
      "Random value is 0.19053, less than 0.5, skip the self-add.\n",
      "0\n",
      "Random value is 0.01762, less than 0.5, skip the self-add.\n",
      "0\n",
      "Random value is 0.12426, less than 0.5, skip the self-add.\n",
      "0\n",
      "Random value is 0.02102, less than 0.5, skip the self-add.\n",
      "0\n",
      "Random value is 0.47013, less than 0.5, skip the self-add.\n",
      "0\n"
     ]
    }
   ],
   "source": [
    "# if in for and while loop to break out or continue\n",
    "\n",
    "import random\n",
    "\n",
    "for i in range(10):\n",
    "    rand = random.random()\n",
    "    print(f'The {i}th epoch.')\n",
    "    if rand > 0.7:\n",
    "        print(f'Random value is {rand:.5f}, break')\n",
    "        break\n",
    "    else:\n",
    "        print(f'Random value is {rand:.5f}')\n",
    "print('\\n')\n",
    "\n",
    "count = 0\n",
    "for i in range(6):\n",
    "    rand = random.random()\n",
    "    print(count)\n",
    "    if rand < 0.5:\n",
    "        print(f'Random value is {rand:.5f}, less than 0.5, skip the self-add.')\n",
    "        continue\n",
    "    count += 1"
   ]
  },
  {
   "cell_type": "code",
   "execution_count": 4,
   "id": "9991d20b",
   "metadata": {},
   "outputs": [
    {
     "name": "stdout",
     "output_type": "stream",
     "text": [
      "0.4663856537988582\n",
      "0\n",
      "1\n",
      "2\n",
      "\n",
      "\n",
      "0.28930568105332477\n",
      "0\n",
      "1\n",
      "2\n"
     ]
    }
   ],
   "source": [
    "import random\n",
    "\n",
    "rand = random.random()\n",
    "print(rand)\n",
    "for i in range(3) if rand<0.5 else range(5):\n",
    "    print(i)\n",
    "print('\\n')\n",
    "\n",
    "rand = random.random()\n",
    "count = 0\n",
    "print(rand)\n",
    "while count<=2 if rand<0.5 else count<=4:\n",
    "    print(count)\n",
    "    count += 1"
   ]
  },
  {
   "cell_type": "markdown",
   "id": "10bf92ab",
   "metadata": {},
   "source": [
    "# 4.2 for"
   ]
  },
  {
   "cell_type": "code",
   "execution_count": 5,
   "id": "c2c53376",
   "metadata": {},
   "outputs": [
    {
     "name": "stdout",
     "output_type": "stream",
     "text": [
      "0 F\n",
      "1 a\n",
      "2 n\n",
      "3 n\n",
      "4 i\n",
      "5 e\n",
      "\n",
      "\n",
      "0 0 LL\n",
      "0 1 Lx\n",
      "0 2 Lz\n",
      "1 0 fL\n",
      "1 1 fx\n",
      "1 2 fz\n",
      "2 0 fL\n",
      "2 1 fx\n",
      "2 2 fz\n",
      "3 0 fL\n",
      "3 1 fx\n",
      "3 2 fz\n",
      "\n",
      "\n",
      "0 0 LL\n",
      "0 2 Lz\n",
      "1 0 fL\n",
      "1 2 fz\n",
      "\n",
      "\n",
      "1 0 fL\n",
      "1 1 fx\n",
      "1 2 fz\n"
     ]
    }
   ],
   "source": [
    "# for normal usage\n",
    "name = 'Fannie'\n",
    "for i, n in enumerate(name):\n",
    "    print(i, n)\n",
    "print('\\n')\n",
    "\n",
    "# nested for loops\n",
    "name = 'Lfff'\n",
    "name2 = 'Lxz'\n",
    "for i, n in enumerate(name):\n",
    "    for j, n2 in enumerate(name2):\n",
    "        print(i, j, n+n2)\n",
    "print('\\n')\n",
    "\n",
    "# break, continue in nested for loops\n",
    "name = 'Lf'\n",
    "name2 = 'Lxz'\n",
    "for i, n in enumerate(name):\n",
    "    for j, n2 in enumerate(name2):\n",
    "        if n2 == 'x':\n",
    "            continue\n",
    "            # break\n",
    "        print(i, j, n+n2)\n",
    "print('\\n')\n",
    "\n",
    "for i, n in enumerate(name):\n",
    "    if n == 'L':\n",
    "        continue\n",
    "    for j, n2 in enumerate(name2):\n",
    "        print(i, j, n+n2)"
   ]
  },
  {
   "cell_type": "code",
   "execution_count": 6,
   "id": "bff76909",
   "metadata": {},
   "outputs": [
    {
     "name": "stdout",
     "output_type": "stream",
     "text": [
      "[0, 1, 2, 3, 4, 5, 6, 7, 8, 9]\n",
      "(0, 1, 2, 3, 4, 5, 6, 7, 8, 9)\n",
      "{5: 0, 6: 1, 7: 2, 8: 3, 9: 4, 10: 5, 11: 6, 12: 7, 13: 8, 14: 9}\n",
      "\n",
      "\n",
      "[[(0, 0), (1, 0)], [(0, 1), (1, 1)], [(0, 2), (1, 2)]]\n",
      "\n",
      "\n",
      "[(0, 0), (0, 1), (0, 2), (1, 0), (1, 1), (1, 2)]\n",
      "[(0, 0, 0), (0, 0, 1), (0, 0, 2), (0, 0, 3), (0, 1, 0), (0, 1, 1), (0, 1, 2), (0, 1, 3), (0, 2, 0), (0, 2, 1), (0, 2, 2), (0, 2, 3), (1, 0, 0), (1, 0, 1), (1, 0, 2), (1, 0, 3), (1, 1, 0), (1, 1, 1), (1, 1, 2), (1, 1, 3), (1, 2, 0), (1, 2, 1), (1, 2, 2), (1, 2, 3)]\n"
     ]
    }
   ],
   "source": [
    "# use for in list, tuple, dict comprehensions\n",
    "\n",
    "list1 = [i for i in range(10)]\n",
    "tuple1 = tuple(i for i in range(10))\n",
    "dict1 = {key:value for key, value in enumerate(range(10), start=5)}\n",
    "print(list1)\n",
    "print(tuple1)\n",
    "print(dict1)\n",
    "print('\\n')\n",
    "\n",
    "list1 = [[(i, j) for i in range(2)] for j in range(3)]\n",
    "print(list1)\n",
    "print('\\n')\n",
    "\n",
    "list1 = [(i, j) for i in range(2) for j in range(3)]\n",
    "print(list1)\n",
    "list1 = [(i, j, k) for i in range(2) for j in range(3) for k in range(4)]\n",
    "print(list1)"
   ]
  },
  {
   "cell_type": "markdown",
   "id": "3fe0f449",
   "metadata": {},
   "source": [
    "# 4.3 while"
   ]
  },
  {
   "cell_type": "code",
   "execution_count": 7,
   "id": "0309f75d",
   "metadata": {},
   "outputs": [
    {
     "name": "stdout",
     "output_type": "stream",
     "text": [
      "0\n",
      "2\n",
      "4\n",
      "6\n",
      "8\n",
      "10\n",
      "\n",
      "\n",
      "0\n",
      "2\n",
      "4\n",
      "6\n",
      "8\n",
      "10\n"
     ]
    }
   ],
   "source": [
    "# for while, remember to set ending condition\n",
    "count = 0\n",
    "while count <= 10:\n",
    "    print(count)\n",
    "    count += 2\n",
    "print('\\n')\n",
    "\n",
    "count = 0\n",
    "while True:\n",
    "    print(count)\n",
    "    count += 2\n",
    "    if count > 10: break"
   ]
  },
  {
   "cell_type": "code",
   "execution_count": null,
   "id": "c3a35a39",
   "metadata": {},
   "outputs": [],
   "source": []
  }
 ],
 "metadata": {
  "kernelspec": {
   "display_name": "Python 3 (ipykernel)",
   "language": "python",
   "name": "python3"
  },
  "language_info": {
   "codemirror_mode": {
    "name": "ipython",
    "version": 3
   },
   "file_extension": ".py",
   "mimetype": "text/x-python",
   "name": "python",
   "nbconvert_exporter": "python",
   "pygments_lexer": "ipython3",
   "version": "3.9.5"
  }
 },
 "nbformat": 4,
 "nbformat_minor": 5
}
