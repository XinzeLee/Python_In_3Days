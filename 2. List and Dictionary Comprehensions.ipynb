{
 "cells": [
  {
   "cell_type": "markdown",
   "id": "93a2d8db",
   "metadata": {},
   "source": [
    "# 2.1 List and Tuple Comprehensions"
   ]
  },
  {
   "cell_type": "code",
   "execution_count": 1,
   "id": "81f20c19",
   "metadata": {},
   "outputs": [
    {
     "name": "stdout",
     "output_type": "stream",
     "text": [
      "[0, 1, 2, 3, 4, 5]\n",
      "[3, 4, 5, 6, 7]\n",
      "[1, 2, 3, 4, 5, 6, 7]\n",
      "[1, 2, 3, 4, 5, 6, 7, 8, 9]\n",
      "[0, 1, 2]\n",
      "[0, 1, 2, 3, 4, 5, 6, 7, 8]\n",
      "[0, 1, 2, 3, 4, 5, 6, 7, 8, 9]\n",
      "[2, 4, 6, 8]\n",
      "[]\n",
      "[9, 8, 7, 6, 5, 4, 3]\n",
      "[9, 8, 7, 6, 5, 4, 3, 2, 1, 0]\n",
      "\n",
      "\n",
      "[0, 1, 2, 3, 4, 5, 6, 7, 8, 9, 10]\n",
      "[10, 0, 1, 2, 3, 4, 5, 6, 7, 8, 9, 10]\n",
      "[[1, 2, 3], 10, 0, 1, 2, 3, 4, 5, 6, 7, 8, 9, 10]\n",
      "[[1, 2, 3], 10, 0, 1, 2, 3, 4, 5, 6, 7, 8, 9, 10, 1, 2, 3]\n",
      "[[1, 2, 3], 10, 0, 2, 3, 4, 5, 6, 7, 8, 9, 10, 1, 2, 3]\n",
      "[[1, 2, 3], 10, 0, 2, 3, 4, 5, 6, 7, 8, 9, 10, 1, 2] 3\n",
      "[2, 1, 10, 9, 8, 7, 6, 5, 4, 3, 2, 0, 10]\n",
      "[10, 10, 9, 8, 7, 6, 5, 4, 3, 2, 2, 1, 0]\n",
      "[10, 10, 9, 8, 7, 6, 5, 4, 3, 2, 2, 1, 0]\n",
      "[0, 1, 2, 2, 3, 4, 5, 6, 7, 8, 9, 10, 10]\n"
     ]
    }
   ],
   "source": [
    "# basic list slicing and operations\n",
    "my_list = [0, 1, 2, 3, 4, 5, 6, 7, 8, 9]\n",
    "\n",
    "print(my_list[0 : 6])\n",
    "print(my_list[-7: 8])\n",
    "print(my_list[1 : -2])\n",
    "print(my_list[1:])\n",
    "print(my_list[ : 3])\n",
    "print(my_list[ : -1])\n",
    "print(my_list[ : ])\n",
    "print(my_list[2 : -1 : 2]) # start, end, interval\n",
    "print(my_list[2 : -1 : -1])\n",
    "print(my_list[-1 : 2 : -1])\n",
    "print(my_list[::-1])\n",
    "print('\\n')\n",
    "\n",
    "my_list = [0, 1, 2, 3, 4, 5, 6, 7, 8, 9]\n",
    "my_list.append(10)\n",
    "print(my_list)\n",
    "my_list.insert(0,10)\n",
    "print(my_list)\n",
    "my_list2 = [1, 2, 3]\n",
    "my_list.insert(0,my_list2)\n",
    "print(my_list)\n",
    "my_list.extend(my_list2)\n",
    "print(my_list)\n",
    "\n",
    "my_list.remove(1)\n",
    "print(my_list)\n",
    "Popped = my_list.pop()\n",
    "print(my_list, Popped)\n",
    "\n",
    "my_list.reverse()\n",
    "my_list.pop()\n",
    "print(my_list)\n",
    "my_list.sort(reverse = True)   # also work for string. inplace sort\n",
    "print(my_list)\n",
    "A = sorted(my_list)\n",
    "print(my_list)\n",
    "print(A)"
   ]
  },
  {
   "cell_type": "code",
   "execution_count": 2,
   "id": "a959ba8a",
   "metadata": {},
   "outputs": [
    {
     "name": "stdout",
     "output_type": "stream",
     "text": [
      "[1, 2, 3, 4, 5, 6, 7, 8, 9, 10]\n",
      "\n",
      "\n",
      "[1, 4, 9, 16, 25, 36, 49, 64, 81, 100]\n",
      "\n",
      "\n",
      "<map object at 0x000001723300D5E0>\n",
      "[1, 4, 9, 16, 25, 36, 49, 64, 81, 100]\n",
      "\n",
      "\n",
      "[2, 4, 6, 8, 10]\n",
      "<filter object at 0x000001723300DE80>\n",
      "[2, 4, 6, 8, 10]\n",
      "[5, 6, 7, 8]\n",
      "\n",
      "\n",
      "[1, 1, 3, 3, 5, 5, 7, 7, 9, 9]\n"
     ]
    }
   ],
   "source": [
    "nums = range(1, 11)\n",
    "my_list = [n for n in nums]\n",
    "print(my_list)\n",
    "print('\\n')\n",
    "\n",
    "my_list2 = [n**2 for n in nums]     #  ^ is not power, it is bitwise not (&, |)\n",
    "print(my_list2)\n",
    "print('\\n')\n",
    "\n",
    "my_list3 = map(lambda x: x**2, nums)\n",
    "print(my_list3)\n",
    "print(list(my_list3))\n",
    "print('\\n')\n",
    "\n",
    "my_list4 = [n for n in nums if n % 2 == 0]\n",
    "print(my_list4)\n",
    "my_list5 = filter(lambda x: x%2==0, nums)\n",
    "print(my_list5)\n",
    "print(list(my_list5))\n",
    "my_list5 = [n for n in nums if (n >= 5) and (n <= 8)]\n",
    "print(my_list5)\n",
    "print('\\n')\n",
    "\n",
    "# use if and else altogether\n",
    "my_list6 = [n if n%2==1 else n+1 for n in range(10)]\n",
    "print(my_list6)"
   ]
  },
  {
   "cell_type": "markdown",
   "id": "0d5146e6",
   "metadata": {},
   "source": [
    "# 2.2 Dict and Set Comprehensions"
   ]
  },
  {
   "cell_type": "code",
   "execution_count": 3,
   "id": "861ab224",
   "metadata": {},
   "outputs": [
    {
     "name": "stdout",
     "output_type": "stream",
     "text": [
      "<zip object at 0x0000017232F215C0>\n",
      "[(1, 6, 14), (2, 7, 15), (3, 8, 16), (4, 9, 17), (5, 10, 18)]\n",
      "\n",
      "\n",
      "<zip object at 0x0000017232FC2380>\n",
      "[((1, 2), (6, 7), (14, 15, 16)), ((3, 4), (8, 9), 17), (5, (10, 11), 18)]\n",
      "[]\n"
     ]
    }
   ],
   "source": [
    "# please understand zip\n",
    "a = [1, 2, 3, 4, 5]\n",
    "b = [6, 7, 8, 9, 10, 11]\n",
    "c = [14, 15, 16, 17, 18]\n",
    "\n",
    "zip_ab = zip(a, b, c)\n",
    "print(zip_ab)\n",
    "print(list(zip_ab))\n",
    "print('\\n')\n",
    "\n",
    "a = [(1, 2), (3, 4), 5]\n",
    "b = [(6, 7), (8, 9), (10, 11)]\n",
    "c = [(14, 15, 16), 17, 18]\n",
    "\n",
    "zip_ab = zip(a, b, c)\n",
    "print(zip_ab)\n",
    "print(list(zip_ab))\n",
    "# pay attention to code below\n",
    "print(list(zip_ab))"
   ]
  },
  {
   "cell_type": "code",
   "execution_count": 4,
   "id": "b2dc7688",
   "metadata": {},
   "outputs": [
    {
     "name": "stdout",
     "output_type": "stream",
     "text": [
      "{'Bruce': 'Batman', 'Clark': 'Superman', 'Peter': 'Spiderman', 'Logan': 'Wolverine', 'Wade': 'Deadpool'}\n",
      "\n",
      "\n",
      "{'Bruce': 'Batman', 'Clark': 'Superman', 'Peter': 'Spiderman', 'Logan': 'Wolverine', 'Wade': 'Deadpool'}\n",
      "<built-in method keys of dict object at 0x0000017232FFCB00> dict_keys(['Bruce', 'Clark', 'Peter', 'Logan', 'Wade'])\n",
      "<built-in method values of dict object at 0x0000017232FFCB00> dict_values(['Batman', 'Superman', 'Spiderman', 'Wolverine', 'Deadpool'])\n",
      "<built-in method items of dict object at 0x0000017232FFCB00> dict_items([('Bruce', 'Batman'), ('Clark', 'Superman'), ('Peter', 'Spiderman'), ('Logan', 'Wolverine'), ('Wade', 'Deadpool')])\n",
      "\n",
      "\n",
      "{'Bruce': 'Batman', 'Clark': 'Superman', 'Logan': 'Wolverine', 'Wade': 'Deadpool'}\n",
      "{'Bruce': 'Batman', 'Clark': 'Superman', 'Logan': 'Wolverine', 'Wade': 'Deadpool'}\n",
      "\n",
      "\n",
      "{'Bruce': 'Batman', 'Clark': 'Superman', 'Peter': 'Spiderman', 'Logan': 'Wolverine', 'Wade': 'Deadpool'}\n",
      "{'Bruce': 'Batman', 'Clark': 'Superman', 'Peter': 'Spiderman', 'Logan': 'Wolverine', 'Wade': 'Deadpool'}\n",
      "\n",
      "\n",
      "{'Bruce': 'Batman', 'Clark': 'Superman', 'Kidding': 'Spiderman', 'Logan': 'Wolverine', 'Wade': 'Deadpool'}\n"
     ]
    }
   ],
   "source": [
    "names = ['Bruce', 'Clark', 'Peter', 'Logan', 'Wade']\n",
    "heros = ['Batman', 'Superman', 'Spiderman', 'Wolverine', 'Deadpool']\n",
    "my_dict1 = {name:hero for name, hero in zip(names, heros)}\n",
    "print(my_dict1)\n",
    "print('\\n')\n",
    "\n",
    "my_dict2 = dict(zip(names, heros))\n",
    "print(my_dict2)\n",
    "print(my_dict2.keys, my_dict2.keys())\n",
    "print(my_dict2.values, my_dict2.values())\n",
    "print(my_dict2.items, my_dict2.items())\n",
    "print('\\n')\n",
    "\n",
    "my_dict3 = dict(item for item in my_dict1.items() if item[0] != 'Peter')\n",
    "print(my_dict3)\n",
    "my_dict4 = {name: hero for name, hero in zip(names, heros) if name != 'Peter'}\n",
    "print(my_dict4)\n",
    "print('\\n')\n",
    "\n",
    "my_dict5 = dict((key,value) for key, value in my_dict1.items() if value != 'Peter')\n",
    "print(my_dict5)\n",
    "my_dict6 = {key:value for key, value in my_dict1.items() if value != 'Peter'}\n",
    "print(my_dict6)\n",
    "print('\\n')\n",
    "\n",
    "my_dict7 = dict((key,value) if key != 'Peter' else ('Kidding',value) for key, value in my_dict1.items())\n",
    "print(my_dict7)"
   ]
  },
  {
   "cell_type": "code",
   "execution_count": 5,
   "id": "eaf09cf8",
   "metadata": {},
   "outputs": [
    {
     "name": "stdout",
     "output_type": "stream",
     "text": [
      "{0, 1, 2, 3, 4, 5, 6, 7, 8, 9}\n",
      "{0, 1, 2, 3, 4, 5, 6, 7, 8, 9}\n",
      "{0, 1, 2, 3, 4, 5, 6, 7, 8, 9}\n"
     ]
    }
   ],
   "source": [
    "nums2 = [0, 0, 1, 2, 7, 9, 9, 1, 2, 3, 4, 5, 6, 7, 8, 9]\n",
    "my_set = {n for n in nums2}\n",
    "print(my_set)\n",
    "my_set2 = set(n for n in nums2)\n",
    "print(my_set2)\n",
    "my_set3 = set(nums2)\n",
    "print(my_set3)"
   ]
  },
  {
   "cell_type": "code",
   "execution_count": null,
   "id": "a22f1004",
   "metadata": {},
   "outputs": [],
   "source": []
  }
 ],
 "metadata": {
  "kernelspec": {
   "display_name": "Python 3 (ipykernel)",
   "language": "python",
   "name": "python3"
  },
  "language_info": {
   "codemirror_mode": {
    "name": "ipython",
    "version": 3
   },
   "file_extension": ".py",
   "mimetype": "text/x-python",
   "name": "python",
   "nbconvert_exporter": "python",
   "pygments_lexer": "ipython3",
   "version": "3.9.5"
  }
 },
 "nbformat": 4,
 "nbformat_minor": 5
}
