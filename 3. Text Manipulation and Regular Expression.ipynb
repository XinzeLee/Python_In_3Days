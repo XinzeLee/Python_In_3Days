{
 "cells": [
  {
   "cell_type": "markdown",
   "id": "16eae252",
   "metadata": {},
   "source": [
    "# 3.1 Basic String Operations"
   ]
  },
  {
   "cell_type": "code",
   "execution_count": 1,
   "id": "699fe24a",
   "metadata": {},
   "outputs": [
    {
     "name": "stdout",
     "output_type": "stream",
     "text": [
      "fff represents fffannie!\n",
      "xxx represents xxxinze!\n",
      "30-07-2021\n",
      "\n",
      "\n",
      "f r\n",
      "rpeet ane\n",
      "rpeet ane\n",
      "!einnaf stneserper f\n",
      "\n",
      "\n",
      "2\n",
      "2\n",
      "represents fannie!\n",
      "\n",
      "\n",
      "f represents fannie!\n",
      "x represents xinze!\n",
      "\n",
      "\n",
      "XINZE and Fannie\n",
      "XINZE and Fannie\n",
      "\n",
      "\n",
      "XINZE AND FANNIE\n",
      "xinze and fannie\n",
      "Xinze and fannie\n"
     ]
    }
   ],
   "source": [
    "string1 = \"f represents fannie!\"\n",
    "string2 = \"x represents xinze!\"\n",
    "string3 = '30/07/2021'\n",
    "print(string1.replace('f', 'fff'))\n",
    "print(string2.replace('x', 'xxx'))\n",
    "print(string3.replace('/', '-'))\n",
    "print('\\n')\n",
    "\n",
    "string1 = \"f represents fannie!\"\n",
    "print(string1[:3])\n",
    "print(string1[2:-1:2])\n",
    "print(string1[2::2])\n",
    "print(string1[-1::-1])\n",
    "print('\\n')\n",
    "\n",
    "string1 = \"f represents fannie!\"\n",
    "print(string1.count('f'))\n",
    "print(string1.find('r'))\n",
    "print(string1[string1.find('r'):])\n",
    "print('\\n')\n",
    "\n",
    "string1 = \"f represents fannie!\"\n",
    "string2 = \"x represents xinze!\"\n",
    "print(string1+'\\n'+string2)\n",
    "print('\\n')\n",
    "\n",
    "name1 = 'XINZE'\n",
    "name2 = 'Fannie'\n",
    "string1 = '{} and {}'.format(name1,name2)\n",
    "string2 = f'{name1} and {name2}'\n",
    "print(string1)\n",
    "print(string2)\n",
    "print('\\n')\n",
    "\n",
    "print(string1.upper())\n",
    "print(string1.lower())\n",
    "print(string1.capitalize())"
   ]
  },
  {
   "cell_type": "code",
   "execution_count": 2,
   "id": "89653995",
   "metadata": {},
   "outputs": [
    {
     "name": "stdout",
     "output_type": "stream",
     "text": [
      "True True\n",
      "\n",
      "\n",
      "    helloooo    python  !!!\n",
      "helloooo    python  !!!  \n",
      "helloooo    python  !!!\n",
      "helloooopython!!!\n",
      "\n",
      "\n",
      "sssssssome babbling wordsssssss, it isssssss fine...\n",
      "\n",
      "\n",
      "fannie, loves, python\n",
      "fannie.loves.python\n",
      "fannie~loves~python\n"
     ]
    }
   ],
   "source": [
    "file1 = \"not_exists.txt\"\n",
    "print(file1.endswith('.txt'), file1.startswith('not'))\n",
    "print('\\n')\n",
    "\n",
    "string1 = \"    helloooo    python  !!!  \"\n",
    "print(string1.rstrip())\n",
    "print(string1.lstrip())\n",
    "print(string1.strip())\n",
    "print(string1.replace(\" \", \"\"))\n",
    "print('\\n')\n",
    "\n",
    "string1 = \"some babbling words, it is fine!\"\n",
    "remap = {\n",
    "    ord('s'): 'sssssss',\n",
    "    ord('!'): '...',\n",
    "}\n",
    "print(string1.translate(remap))\n",
    "print('\\n')\n",
    "\n",
    "sample_list = ['fannie', 'loves', 'python']\n",
    "print(', '.join(sample_list))\n",
    "print('.'.join(sample_list))\n",
    "print('~'.join(sample_list))"
   ]
  },
  {
   "cell_type": "code",
   "execution_count": 3,
   "id": "278910a8",
   "metadata": {},
   "outputs": [
    {
     "name": "stdout",
     "output_type": "stream",
     "text": [
      "1114111\n",
      "['!', '\"', '#', '%', '&', \"'\", '(', ')', '*', ',', '-', '.', '/', ':', ';', '?', '@', '[', '\\\\', ']', '_', '{', '}', '¡', '§', '«', '¶', '·', '»', '¿', ';', '·', '՚', '՛', '՜', '՝', '՞', '՟', '։', '֊', '־', '׀', '׃', '׆', '׳', '״', '؉', '؊', '،', '؍', '؛', '؞', '؟', '٪', '٫', '٬', '٭', '۔', '܀', '܁', '܂', '܃', '܄', '܅', '܆', '܇', '܈', '܉', '܊', '܋', '܌', '܍', '߷', '߸', '߹', '࠰', '࠱', '࠲', '࠳', '࠴', '࠵', '࠶', '࠷', '࠸', '࠹', '࠺', '࠻', '࠼', '࠽', '࠾', '࡞', '।', '॥', '॰', '৽', '੶', '૰', '౷', '಄', '෴', '๏', '๚', '๛', '༄', '༅', '༆', '༇', '༈', '༉', '༊', '་', '༌', '།', '༎', '༏', '༐', '༑', '༒', '༔', '༺', '༻', '༼', '༽', '྅', '࿐', '࿑', '࿒', '࿓', '࿔', '࿙', '࿚', '၊', '။', '၌', '၍', '၎', '၏', '჻', '፠', '፡', '።', '፣', '፤', '፥', '፦', '፧', '፨', '᐀', '᙮', '᚛', '᚜', '᛫', '᛬', '᛭', '᜵', '᜶', '។', '៕', '៖', '៘', '៙', '៚', '᠀', '᠁', '᠂', '᠃', '᠄', '᠅', '᠆', '᠇', '᠈', '᠉', '᠊', '᥄', '᥅', '᨞', '᨟', '᪠', '᪡', '᪢', '᪣', '᪤', '᪥', '᪦', '᪨', '᪩', '᪪', '᪫', '᪬', '᪭', '᭚', '᭛', '᭜', '᭝', '᭞', '᭟', '᭠', '᯼', '᯽', '᯾', '᯿', '᰻', '᰼', '᰽', '᰾', '᰿', '᱾', '᱿', '᳀', '᳁', '᳂', '᳃', '᳄', '᳅', '᳆', '᳇', '᳓', '‐', '‑', '‒', '–', '—', '―', '‖', '‗', '‘', '’', '‚', '‛', '“', '”', '„', '‟', '†', '‡', '•', '‣', '․', '‥', '…', '‧', '‰', '‱', '′', '″', '‴', '‵', '‶', '‷', '‸', '‹', '›', '※', '‼', '‽', '‾', '‿', '⁀', '⁁', '⁂', '⁃', '⁅', '⁆', '⁇', '⁈', '⁉', '⁊', '⁋', '⁌', '⁍', '⁎', '⁏', '⁐', '⁑', '⁓', '⁔', '⁕', '⁖', '⁗', '⁘', '⁙', '⁚', '⁛', '⁜', '⁝', '⁞', '⁽', '⁾', '₍', '₎', '⌈', '⌉', '⌊', '⌋', '〈', '〉', '❨', '❩', '❪', '❫', '❬', '❭', '❮', '❯', '❰', '❱', '❲', '❳', '❴', '❵', '⟅', '⟆', '⟦', '⟧', '⟨', '⟩', '⟪', '⟫', '⟬', '⟭', '⟮', '⟯', '⦃', '⦄', '⦅', '⦆', '⦇', '⦈', '⦉', '⦊', '⦋', '⦌', '⦍', '⦎', '⦏', '⦐', '⦑', '⦒', '⦓', '⦔', '⦕', '⦖', '⦗', '⦘', '⧘', '⧙', '⧚', '⧛', '⧼', '⧽', '⳹', '⳺', '⳻', '⳼', '⳾', '⳿', '⵰', '⸀', '⸁', '⸂', '⸃', '⸄', '⸅', '⸆', '⸇', '⸈', '⸉', '⸊', '⸋', '⸌', '⸍', '⸎', '⸏', '⸐', '⸑', '⸒', '⸓', '⸔', '⸕', '⸖', '⸗', '⸘', '⸙', '⸚', '⸛', '⸜', '⸝', '⸞', '⸟', '⸠', '⸡', '⸢', '⸣', '⸤', '⸥', '⸦', '⸧', '⸨', '⸩', '⸪', '⸫', '⸬', '⸭', '⸮', '⸰', '⸱', '⸲', '⸳', '⸴', '⸵', '⸶', '⸷', '⸸', '⸹', '⸺', '⸻', '⸼', '⸽', '⸾', '⸿', '⹀', '⹁', '⹂', '⹃', '⹄', '⹅', '⹆', '⹇', '⹈', '⹉', '⹊', '⹋', '⹌', '⹍', '⹎', '⹏', '⹒', '、', '。', '〃', '〈', '〉', '《', '》', '「', '」', '『', '』', '【', '】', '〔', '〕', '〖', '〗', '〘', '〙', '〚', '〛', '〜', '〝', '〞', '〟', '〰', '〽', '゠', '・', '꓾', '꓿', '꘍', '꘎', '꘏', '꙳', '꙾', '꛲', '꛳', '꛴', '꛵', '꛶', '꛷', '꡴', '꡵', '꡶', '꡷', '꣎', '꣏', '꣸', '꣹', '꣺', '꣼', '꤮', '꤯', '꥟', '꧁', '꧂', '꧃', '꧄', '꧅', '꧆', '꧇', '꧈', '꧉', '꧊', '꧋', '꧌', '꧍', '꧞', '꧟', '꩜', '꩝', '꩞', '꩟', '꫞', '꫟', '꫰', '꫱', '꯫', '﴾', '﴿', '︐', '︑', '︒', '︓', '︔', '︕', '︖', '︗', '︘', '︙', '︰', '︱', '︲', '︳', '︴', '︵', '︶', '︷', '︸', '︹', '︺', '︻', '︼', '︽', '︾', '︿', '﹀', '﹁', '﹂', '﹃', '﹄', '﹅', '﹆', '﹇', '﹈', '﹉', '﹊', '﹋', '﹌', '﹍', '﹎', '﹏', '﹐', '﹑', '﹒', '﹔', '﹕', '﹖', '﹗', '﹘', '﹙', '﹚', '﹛', '﹜', '﹝', '﹞', '﹟', '﹠', '﹡', '﹣', '﹨', '﹪', '﹫', '！', '＂', '＃', '％', '＆', '＇', '（', '）', '＊', '，', '－', '．', '／', '：', '；', '？', '＠', '［', '＼', '］', '＿', '｛', '｝', '｟', '｠', '｡', '｢', '｣', '､', '･', '𐄀', '𐄁', '𐄂', '𐎟', '𐏐', '𐕯', '𐡗', '𐤟', '𐤿', '𐩐', '𐩑', '𐩒', '𐩓', '𐩔', '𐩕', '𐩖', '𐩗', '𐩘', '𐩿', '𐫰', '𐫱', '𐫲', '𐫳', '𐫴', '𐫵', '𐫶', '𐬹', '𐬺', '𐬻', '𐬼', '𐬽', '𐬾', '𐬿', '𐮙', '𐮚', '𐮛', '𐮜', '𐺭', '𐽕', '𐽖', '𐽗', '𐽘', '𐽙', '𑁇', '𑁈', '𑁉', '𑁊', '𑁋', '𑁌', '𑁍', '𑂻', '𑂼', '𑂾', '𑂿', '𑃀', '𑃁', '𑅀', '𑅁', '𑅂', '𑅃', '𑅴', '𑅵', '𑇅', '𑇆', '𑇇', '𑇈', '𑇍', '𑇛', '𑇝', '𑇞', '𑇟', '𑈸', '𑈹', '𑈺', '𑈻', '𑈼', '𑈽', '𑊩', '𑑋', '𑑌', '𑑍', '𑑎', '𑑏', '𑑚', '𑑛', '𑑝', '𑓆', '𑗁', '𑗂', '𑗃', '𑗄', '𑗅', '𑗆', '𑗇', '𑗈', '𑗉', '𑗊', '𑗋', '𑗌', '𑗍', '𑗎', '𑗏', '𑗐', '𑗑', '𑗒', '𑗓', '𑗔', '𑗕', '𑗖', '𑗗', '𑙁', '𑙂', '𑙃', '𑙠', '𑙡', '𑙢', '𑙣', '𑙤', '𑙥', '𑙦', '𑙧', '𑙨', '𑙩', '𑙪', '𑙫', '𑙬', '𑜼', '𑜽', '𑜾', '𑠻', '𑥄', '𑥅', '𑥆', '𑧢', '𑨿', '𑩀', '𑩁', '𑩂', '𑩃', '𑩄', '𑩅', '𑩆', '𑪚', '𑪛', '𑪜', '𑪞', '𑪟', '𑪠', '𑪡', '𑪢', '𑱁', '𑱂', '𑱃', '𑱄', '𑱅', '𑱰', '𑱱', '𑻷', '𑻸', '𑿿', '𒑰', '𒑱', '𒑲', '𒑳', '𒑴', '𖩮', '𖩯', '𖫵', '𖬷', '𖬸', '𖬹', '𖬺', '𖬻', '𖭄', '𖺗', '𖺘', '𖺙', '𖺚', '𖿢', '𛲟', '𝪇', '𝪈', '𝪉', '𝪊', '𝪋', '𞥞', '𞥟']\n",
      "['hellopython', 'fannie python gooood ~` ']\n"
     ]
    }
   ],
   "source": [
    "# Removing punctuations (period, question mark, exclamation point, comma, semicolon, colon, dash, hyphen, \n",
    "# parentheses, brackets, braces, apostrophe, quotation marks, and ellipsis)\n",
    "import unicodedata\n",
    "import sys\n",
    "\n",
    "print(sys.maxunicode)\n",
    "\n",
    "sample_text = ['!!!hello_;python.....', 'fannie python gooood ~`\\' !!!']\n",
    "\n",
    "punctuation = [chr(i) for i in range(sys.maxunicode) if unicodedata.category(chr(i)).startswith('P')]\n",
    "print(punctuation)\n",
    "punctuation_map = dict.fromkeys(i for i in range(sys.maxunicode) if unicodedata.category(chr(i)).startswith('P'))\n",
    "# print(punctuation_map)\n",
    "\n",
    "result = [item.translate(punctuation_map) for item in sample_text]\n",
    "print(result)"
   ]
  },
  {
   "cell_type": "markdown",
   "id": "02c67aa4",
   "metadata": {},
   "source": [
    "# 3.2 Regular Expression\n",
    "* ^ : Matches beginning of line.\n",
    "* $ : Matches end of line.\n",
    "* . : Matches any single character except newline. Using m option allows it to match newline as well.\n",
    "* [...] : Matches any single character in brackets.\n",
    "* [^...] : Matches any single character not in brackets\n",
    "* re* : Matches 0 or more occurrences of preceding expression.\n",
    "* re+ : Matches 1 or more occurrence of preceding expression.\n",
    "* re? : Matches 0 or 1 occurrence of preceding expression.\n",
    "* re{n} : Matches exactly n number of occurrences of preceding expression.\n",
    "* re{n,} : Matches n or more occurrences of preceding expression.\n",
    "* re{n, m} : Matches at least n and at most m occurrences of preceding expression.\n",
    "* a | b : Matches either a or b.\n",
    "* (re) : Groups regular expressions and remembers matched text.\n",
    "* \\w : Matches word characters.\n",
    "* \\W : Matches nonword characters.\n",
    "* \\s : Matches whitespace. Equivalent to [\\t\\n\\r\\f].\n",
    "* \\S : Matches nonwhitespace.\n",
    "* \\d : Matches digits. Equivalent to [0-9].\n",
    "* \\D : Matches nondigits.\n",
    "* \\n, \\t : Matches newlines, tabs.\n",
    "* \\1...\\9 : Matches nth grouped subexpression.\n",
    "***\n",
    "*refer to https://www.tutorialspoint.com/python/python_reg_expressions.htm*"
   ]
  },
  {
   "cell_type": "markdown",
   "id": "585609ab",
   "metadata": {},
   "source": [
    "### **re.split**"
   ]
  },
  {
   "cell_type": "code",
   "execution_count": 4,
   "id": "2e91a669",
   "metadata": {},
   "outputs": [
    {
     "name": "stdout",
     "output_type": "stream",
     "text": [
      "['hello', 'fannie', 'consultants', 'etc', 'impact', 'singapore', 'hub', 'hahahaha']\n",
      "['hello', 'fannie', 'consultants', 'etc', 'impact', 'singapore', 'hub', 'hahahaha']\n",
      "\n",
      "\n",
      "['hello', ' ', 'fannie', '; ', 'consultants', ', ', 'etc', ';  ', 'impact', ',   ', 'singapore', ' ', 'hub', ', ', 'hahahaha']\n",
      "\n",
      "\n",
      "['hello', 'fannie', 'consultants', 'etc', 'impact', 'singapore', 'hub', 'hahahaha']\n",
      "[' ', '; ', ', ', ';  ', ',   ', ' ', ', ']\n",
      "\n",
      "\n",
      "['hello fannie', 'consultants', 'etc', 'impact', ' singapore hub', 'hahahaha']\n"
     ]
    }
   ],
   "source": [
    "import re\n",
    "\n",
    "sample_string = 'hello fannie; consultants, etc;  impact,   singapore hub, hahahaha'\n",
    "\n",
    "# r'any strings' : r represents raw string\n",
    "result1 = re.split(r'[;,\\s]\\s*', sample_string) # separator is either a comma (,), semicolon(;)\n",
    "print(result1)\n",
    "# if use \"re.compile\" to complie, you dont need to compile everytime \n",
    "r1 = re.compile(r'[;,\\s]\\s*')\n",
    "print(r1.split(sample_string))\n",
    "print('\\n')\n",
    "\n",
    "r2 = re.compile(r'([\\;|\\,|\\s]+)')\n",
    "result = r2.split(sample_string)\n",
    "print(result)\n",
    "print('\\n')\n",
    "\n",
    "print(result[::2])\n",
    "print(result[1::2])\n",
    "print('\\n')\n",
    "\n",
    "r3 = re.compile(r'[;,\\s]{2,3}')\n",
    "result = r3.split(sample_string)\n",
    "print(result)"
   ]
  },
  {
   "cell_type": "markdown",
   "id": "96d57e08",
   "metadata": {},
   "source": [
    "### **re.match**"
   ]
  },
  {
   "cell_type": "code",
   "execution_count": 5,
   "id": "1abb5e51",
   "metadata": {},
   "outputs": [
    {
     "name": "stdout",
     "output_type": "stream",
     "text": [
      "31/07/2021\n",
      "<re.Match object; span=(0, 10), match='31/07/2021'>\n",
      "True\n",
      "Jul 31, 2021\n",
      "None\n",
      "False\n",
      "\n",
      "\n",
      "31/07/2021\n",
      "<re.Match object; span=(0, 10), match='31/07/2021'>\n",
      "True\n",
      "Jul 31, 2021\n",
      "None\n",
      "False\n",
      "31/07/2021\n",
      "31/07/2021\n",
      "31 07 2021\n"
     ]
    }
   ],
   "source": [
    "import re\n",
    "\n",
    "sample1 = '31/07/2021'\n",
    "sample2 = 'Jul 31, 2021'\n",
    "test_samples = []\n",
    "test_samples.append(sample1)\n",
    "test_samples.append(sample2)\n",
    "\n",
    "clean_test = re.compile(r'\\d+/\\d+/\\d+') #non-capture groups\n",
    "for test_sample in test_samples:\n",
    "    print(test_sample)\n",
    "    print(clean_test.match(test_sample))\n",
    "    if clean_test.match(test_sample):\n",
    "        print(str(True))\n",
    "    else:\n",
    "        print(str(False))\n",
    "\n",
    "print('\\n')\n",
    "\n",
    "clean_test2 = re.compile((r'(\\d+)/(\\d+)/(\\d+)')) #capture groups - simplify subsequent processing of the \n",
    "for test_sample in test_samples:\n",
    "    print(test_sample)\n",
    "    print(clean_test2.match(test_sample))\n",
    "    if clean_test2.match(test_sample):\n",
    "        print(str(True))\n",
    "    else:\n",
    "        print(str(False))\n",
    "result = clean_test.match(sample1)\n",
    "result2 = clean_test2.match(sample1)\n",
    "print(result.group(0))\n",
    "print(result2.group(0))\n",
    "# print(result.group(1)) # raise error, because there is no capture\n",
    "print(result2.group(1), result2.group(2), result2.group(3))"
   ]
  },
  {
   "cell_type": "markdown",
   "id": "abff7e77",
   "metadata": {},
   "source": [
    "### **re.sub**"
   ]
  },
  {
   "cell_type": "code",
   "execution_count": 6,
   "id": "1b96700f",
   "metadata": {},
   "outputs": [
    {
     "name": "stdout",
     "output_type": "stream",
     "text": [
      "31.07.2021\n",
      "\n",
      "\n",
      "31-07-2021\n",
      "\n",
      "\n",
      "smart Fannie, cunning Fannie, beautiful Fannie\n",
      "\n",
      "\n",
      "smart fannie, cunning Fannie, beautiful FANNIE\n"
     ]
    }
   ],
   "source": [
    "import re\n",
    "\n",
    "sample1 = '31/07/2021'\n",
    "clean_test = re.compile((r'(\\d+)/(\\d+)/(\\d+)')) #capture groups - simplify subsequent processing of the \n",
    "result1 = clean_test.sub(r'\\1.\\2.\\3', sample1)\n",
    "print(result1)\n",
    "print('\\n')\n",
    "\n",
    "sample1 = '31/07/2021'\n",
    "clean_test = re.compile((r'(\\d+)/(\\d+)/(\\d+)')) #capture groups - simplify subsequent processing of the \n",
    "result1 = clean_test.sub(r'\\1-\\2-\\3', sample1)\n",
    "print(result1)\n",
    "print('\\n')\n",
    "\n",
    "sample1 = 'smart python, cunning PyThOn, beautiful PYTHON'\n",
    "result1 = re.sub('python', 'Fannie', sample1, flags=re.IGNORECASE)\n",
    "print(result1)\n",
    "print('\\n')\n",
    "\n",
    "# replace following defined rules\n",
    "def support1 (word):\n",
    "    def support2 (m):\n",
    "        text = m.group()\n",
    "        if text.isupper():\n",
    "            return word.upper()\n",
    "        elif text.islower():\n",
    "            return word.lower()\n",
    "        elif text[0].isupper():\n",
    "            return word.capitalize()\n",
    "        else:\n",
    "            return word\n",
    "    return support2\n",
    "result1 = re.sub('python', support1('fannie'), sample1, flags = re.IGNORECASE)\n",
    "print(result1)"
   ]
  },
  {
   "cell_type": "markdown",
   "id": "9b1ec13c",
   "metadata": {},
   "source": [
    "### **re.findall**"
   ]
  },
  {
   "cell_type": "code",
   "execution_count": 7,
   "id": "a87454bb",
   "metadata": {},
   "outputs": [
    {
     "name": "stdout",
     "output_type": "stream",
     "text": [
      "['python', 'PyThOn', 'PYTHON']\n",
      "\n",
      "\n",
      "['is', 'fun']\n",
      "\n",
      "\n",
      "['is', 'fun', 'learning']\n",
      "\n",
      "\n",
      "helloooo python !!!\n"
     ]
    }
   ],
   "source": [
    "import re\n",
    "\n",
    "sample1 = 'smart python, cunning PyThOn, beautiful PYTHON'\n",
    "result1 = re.findall(r'python', sample1, flags=re.IGNORECASE)\n",
    "print(result1)\n",
    "print('\\n')\n",
    "\n",
    "clean_test = re.compile(r'\"(.*?)\"')\n",
    "test_sample = 'Python \"is\" very \"fun\" hahaha'\n",
    "result1 = clean_test.findall(test_sample)\n",
    "print(result1)\n",
    "print('\\n')\n",
    "\n",
    "clean_test = re.compile(r'[\"\\'](.*?)[\"\\']')\n",
    "test_sample = 'Python \"is\" very \"fun\" hahaha, Fannie is \\'learning\\''\n",
    "result1 = clean_test.findall(test_sample)\n",
    "print(result1)\n",
    "print('\\n')\n",
    "\n",
    "string1 = \"    helloooo    python  !!!  \"\n",
    "result1 = re.sub(r'\\s+', ' ', string1.strip())\n",
    "print(result1)"
   ]
  },
  {
   "cell_type": "code",
   "execution_count": null,
   "id": "7f73a0b3",
   "metadata": {},
   "outputs": [],
   "source": []
  },
  {
   "cell_type": "code",
   "execution_count": null,
   "id": "ab4b5bb2",
   "metadata": {},
   "outputs": [],
   "source": []
  }
 ],
 "metadata": {
  "kernelspec": {
   "display_name": "Python 3 (ipykernel)",
   "language": "python",
   "name": "python3"
  },
  "language_info": {
   "codemirror_mode": {
    "name": "ipython",
    "version": 3
   },
   "file_extension": ".py",
   "mimetype": "text/x-python",
   "name": "python",
   "nbconvert_exporter": "python",
   "pygments_lexer": "ipython3",
   "version": "3.9.5"
  }
 },
 "nbformat": 4,
 "nbformat_minor": 5
}
