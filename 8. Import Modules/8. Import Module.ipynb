{
 "cells": [
  {
   "cell_type": "markdown",
   "id": "1cf55e98",
   "metadata": {},
   "source": [
    "# 8.1 Install Module, Import Module\n",
    "    Use python package manager \"pip\" or \"conda\" to install module"
   ]
  },
  {
   "cell_type": "code",
   "execution_count": null,
   "id": "9c51e062",
   "metadata": {},
   "outputs": [],
   "source": [
    "# use command \"pip\" to install and uninstall packages\n",
    "# The exclamation mark below ! means to execute with the command line of the system\n",
    "!pip install pyswarms\n",
    "# Try to open cmd (command prompt), enter \"pip install pyswarms\" to install"
   ]
  },
  {
   "cell_type": "code",
   "execution_count": 1,
   "id": "d81d97ee",
   "metadata": {},
   "outputs": [
    {
     "name": "stdout",
     "output_type": "stream",
     "text": [
      "<module 'pyswarms' from 'D:\\\\Anaconda\\\\lib\\\\site-packages\\\\pyswarms\\\\__init__.py'>\n",
      "\n",
      "\n",
      "['__all__', '__author__', '__builtins__', '__cached__', '__doc__', '__email__', '__file__', '__loader__', '__name__', '__package__', '__path__', '__spec__', '__version__', 'backend', 'base', 'binary', 'cost', 'discrete', 'general_optimizer', 'global_best', 'local_best', 'single', 'utils']\n",
      "\n",
      "\n",
      "['D:\\\\Anaconda\\\\lib\\\\site-packages\\\\pyswarms']\n",
      "pyswarms\n"
     ]
    }
   ],
   "source": [
    "# import module\n",
    "import pyswarms\n",
    "print(pyswarms)\n",
    "print('\\n')\n",
    "\n",
    "# Display a sorted list of the names defined in this module\n",
    "print(dir(pyswarms)) # Important!\n",
    "print('\\n')\n",
    "\n",
    "print(pyswarms.__path__) # module location, if you want to change its code, go to this location to find\n",
    "print(pyswarms.__package__)"
   ]
  },
  {
   "cell_type": "code",
   "execution_count": 2,
   "id": "58391a0b",
   "metadata": {},
   "outputs": [
    {
     "name": "stdout",
     "output_type": "stream",
     "text": [
      "<module 'tqdm' from 'D:\\\\Anaconda\\\\lib\\\\site-packages\\\\tqdm\\\\__init__.py'>\n",
      "['D:\\\\Anaconda\\\\lib\\\\site-packages\\\\tqdm']\n"
     ]
    },
    {
     "name": "stderr",
     "output_type": "stream",
     "text": [
      "100%|█████████████████████████████████████████████| 10/10 [00:00<?, ?it/s]\n"
     ]
    },
    {
     "name": "stdout",
     "output_type": "stream",
     "text": [
      "<class 'tqdm.std.tqdm'>\n"
     ]
    },
    {
     "name": "stderr",
     "output_type": "stream",
     "text": [
      "100%|█████████████████████████████████████████████| 10/10 [00:00<?, ?it/s]\n"
     ]
    },
    {
     "name": "stdout",
     "output_type": "stream",
     "text": [
      "<class 'tqdm.std.tqdm'>\n"
     ]
    },
    {
     "name": "stderr",
     "output_type": "stream",
     "text": [
      "100%|█████████████████████████████████████████████| 10/10 [00:00<?, ?it/s]\n"
     ]
    }
   ],
   "source": [
    "# import module\n",
    "import tqdm\n",
    "print(tqdm)\n",
    "print(tqdm.__path__)\n",
    "\n",
    "# Because the import is the entire module, use \".\" (dot) to call things inside the module\n",
    "for i in tqdm.tqdm(range(10)):\n",
    "    pass\n",
    "del(tqdm)\n",
    "\n",
    "# Distinguished from the above, the following means import tqdm class from the tqdm module\n",
    "# If you just import the tqdm class from the tqdm module, you cannot call other things, only this tqdm class\n",
    "from tqdm import tqdm\n",
    "print(tqdm)\n",
    "for i in tqdm(range(10)):\n",
    "    pass\n",
    "del(tqdm)\n",
    "\n",
    "# The following means importing all the things defined in this module from the tqdm module (defined by the __all__ variable in __init__.py)\n",
    "# But this way requires you to know the name of everything in the tdqm module (defined by the __all__ variable in __init__.py) (for example, tqdm class)\n",
    "from tqdm import *\n",
    "print(tqdm)\n",
    "for i in tqdm(range(10)):\n",
    "    pass"
   ]
  },
  {
   "cell_type": "code",
   "execution_count": null,
   "id": "7576ceb3",
   "metadata": {},
   "outputs": [],
   "source": [
    "# use command \"pip\" to uninstall packages\n",
    "!pip uninstall pyswarms"
   ]
  },
  {
   "cell_type": "markdown",
   "id": "97625119",
   "metadata": {},
   "source": [
    "# 8.2 When importing a module, the search path and order of the program\n",
    "<img src=\"./figures/Fig1.jpg\">"
   ]
  },
  {
   "cell_type": "markdown",
   "id": "230c5cd4",
   "metadata": {},
   "source": [
    "# 8.3 Self-Defined Module\n",
    "* Follow below steps exactly to understand the ***relative import and absolute import*** (for files in the modules).\n",
    "* The overall structure of the module is shown below.\n",
    "<img src=\"./figures/Fig2.jpg\">"
   ]
  },
  {
   "cell_type": "code",
   "execution_count": 3,
   "id": "ca5175b4",
   "metadata": {},
   "outputs": [
    {
     "name": "stdout",
     "output_type": "stream",
     "text": [
      "E:\\Python in 3 days\\8. Import Modules\n",
      "E:\\Python in 3 days\\8. Import Modules\n",
      ".\n",
      "\n",
      "\n",
      "E:\\Python in 3 days\n",
      "E:\\Python in 3 days\n",
      "8. Import Modules\n",
      "..\n",
      "\n",
      "\n",
      "E:\\Python in 3 days\\folder100\n",
      "E:\\Python in 3 days\\folder100\n",
      "..\\8. Import Modules\n",
      "..\\folder100\n"
     ]
    }
   ],
   "source": [
    "# learn absolute path and relative path\n",
    "import os\n",
    "from pathlib import Path\n",
    "\n",
    "CWD = Path(os.getcwd())\n",
    "print(CWD)\n",
    "print(os.path.abspath(CWD))\n",
    "print(os.path.relpath(CWD, CWD))\n",
    "print('\\n')\n",
    "\n",
    "print(CWD.parent)\n",
    "print(os.path.abspath(CWD.parent))\n",
    "print(os.path.relpath(CWD, CWD.parent))\n",
    "print(os.path.relpath(CWD.parent, CWD))\n",
    "print('\\n')\n",
    "\n",
    "print(os.path.join(CWD.parent, 'folder100'))\n",
    "print(os.path.abspath(os.path.join(CWD.parent, 'folder100')))\n",
    "print(os.path.relpath(CWD, os.path.join(CWD.parent, 'folder100')))\n",
    "print(os.path.relpath(os.path.join(CWD.parent, 'folder100'), CWD))"
   ]
  },
  {
   "cell_type": "code",
   "execution_count": 4,
   "id": "642798df",
   "metadata": {},
   "outputs": [
    {
     "name": "stdout",
     "output_type": "stream",
     "text": [
      "['Sub_Module1', 'Sub_Module2', '__init__.py', '__pycache__']\n",
      "\n",
      "\n",
      "E:\\Python in 3 days\\8. Import Modules\\Module\\__init__.py\n",
      "E:\\Python in 3 days\\8. Import Modules\\Module\\Sub_Module1\\__init__.py\n",
      "E:\\Python in 3 days\\8. Import Modules\\Module\\Sub_Module1\\func1.py\n",
      "E:\\Python in 3 days\\8. Import Modules\\Module\\Sub_Module1\\func2.py\n",
      "E:\\Python in 3 days\\8. Import Modules\\Module\\Sub_Module2\\__init__.py\n",
      "E:\\Python in 3 days\\8. Import Modules\\Module\\Sub_Module2\\func1.py\n"
     ]
    }
   ],
   "source": [
    "# create the dirs for the module\n",
    "import os\n",
    "import sys\n",
    "Main_file = \"Module\"\n",
    "Sub_file = \"Sub_Module1\"\n",
    "Sub_file2 = \"Sub_Module2\"\n",
    "Sub_files = [Sub_file, Sub_file2]\n",
    "CWD = os.getcwd()\n",
    "if Main_file not in os.listdir(CWD):\n",
    "    os.mkdir(Main_file)\n",
    "    \n",
    "working_dir = os.path.join(CWD, Main_file)\n",
    "working_subdir1 = os.path.join(working_dir, Sub_file)\n",
    "working_subdir2 = os.path.join(working_dir, Sub_file2)\n",
    "working_subdirs = [working_subdir1, working_subdir2]\n",
    "print(os.listdir(working_dir))\n",
    "for i, file in enumerate(Sub_files):\n",
    "    if file not in os.listdir(working_dir):\n",
    "        os.mkdir(working_subdirs[i])\n",
    "\n",
    "# 用于后续 %%writefile\n",
    "print('\\n')\n",
    "print(os.path.join(working_dir, \"__init__.py\"))\n",
    "print(os.path.join(working_subdir1, \"__init__.py\"))\n",
    "print(os.path.join(working_subdir1, \"func1.py\"))\n",
    "print(os.path.join(working_subdir1, \"func2.py\"))\n",
    "print(os.path.join(working_subdir2, \"__init__.py\"))\n",
    "print(os.path.join(working_subdir2, \"func1.py\"))"
   ]
  },
  {
   "cell_type": "code",
   "execution_count": 5,
   "id": "1afeb12f",
   "metadata": {},
   "outputs": [
    {
     "name": "stdout",
     "output_type": "stream",
     "text": [
      "Overwriting E:\\Python in 3 days\\8. Import Modules\\Module\\Sub_Module1\\func1.py\n"
     ]
    }
   ],
   "source": [
    "%%writefile \"E:\\Python in 3 days\\8. Import Modules\\Module\\Sub_Module1\\func1.py\"\n",
    "class Func1(object):\n",
    "    @staticmethod\n",
    "    def num(x):\n",
    "        return x ** 2"
   ]
  },
  {
   "cell_type": "code",
   "execution_count": 6,
   "id": "065161d0",
   "metadata": {},
   "outputs": [
    {
     "name": "stdout",
     "output_type": "stream",
     "text": [
      "Overwriting E:\\Python in 3 days\\8. Import Modules\\Module\\Sub_Module1\\func2.py\n"
     ]
    }
   ],
   "source": [
    "%%writefile \"E:\\Python in 3 days\\8. Import Modules\\Module\\Sub_Module1\\func2.py\"\n",
    "from .func1 import Func1\n",
    "\n",
    "# Look at Sub_Module1.__init__ and explain why the following can also be\n",
    "# from . import Func1\n",
    "class Func2(object):\n",
    "    @staticmethod\n",
    "    def num2(x):\n",
    "        return Func1.num(x)"
   ]
  },
  {
   "cell_type": "code",
   "execution_count": 7,
   "id": "6202f998",
   "metadata": {},
   "outputs": [
    {
     "name": "stdout",
     "output_type": "stream",
     "text": [
      "Overwriting E:\\Python in 3 days\\8. Import Modules\\Module\\Sub_Module1\\__init__.py\n"
     ]
    }
   ],
   "source": [
    "%%writefile \"E:\\Python in 3 days\\8. Import Modules\\Module\\Sub_Module1\\__init__.py\"\n",
    "# 从func1.py中import Func1 class\n",
    "from .func1 import Func1\n",
    "\n",
    "# import func2(.py) from the current directory\n",
    "from . import func2\n",
    "\n",
    "__all__ = [\"Func1\",\n",
    "          \"func2\"]"
   ]
  },
  {
   "cell_type": "markdown",
   "id": "abce3323",
   "metadata": {},
   "source": [
    "<img src=\"./figures/Fig3.jpg\">"
   ]
  },
  {
   "cell_type": "code",
   "execution_count": 8,
   "id": "543a6112",
   "metadata": {},
   "outputs": [
    {
     "name": "stdout",
     "output_type": "stream",
     "text": [
      "Overwriting E:\\Python in 3 days\\8. Import Modules\\Module\\Sub_Module2\\func1.py\n"
     ]
    }
   ],
   "source": [
    "%%writefile \"E:\\Python in 3 days\\8. Import Modules\\Module\\Sub_Module2\\func1.py\"\n",
    "# 从module Sub_Module1的func1.py中import Func1 class\n",
    "# Reason for two dots..: one dot represents curretn directory，one more dot will move outward one more level (the parent directory)\n",
    "from ..Sub_Module1.func1 import Func1\n",
    "class Func1(object):\n",
    "    @staticmethod\n",
    "    def num1(x):\n",
    "        return Func1.num(x)"
   ]
  },
  {
   "cell_type": "code",
   "execution_count": 9,
   "id": "a70fcc32",
   "metadata": {},
   "outputs": [
    {
     "name": "stdout",
     "output_type": "stream",
     "text": [
      "Overwriting E:\\Python in 3 days\\8. Import Modules\\Module\\Sub_Module2\\__init__.py\n"
     ]
    }
   ],
   "source": [
    "%%writefile \"E:\\Python in 3 days\\8. Import Modules\\Module\\Sub_Module2\\__init__.py\"\n",
    "from .func1 import Func1\n",
    "\n",
    "# If you want to import Func2 of func2.py in Sub_Module1 here, how to do it?\n",
    "\n",
    "__all__ = [\"Func1\",]"
   ]
  },
  {
   "cell_type": "code",
   "execution_count": 10,
   "id": "82908b99",
   "metadata": {},
   "outputs": [
    {
     "name": "stdout",
     "output_type": "stream",
     "text": [
      "Overwriting E:\\Python in 3 days\\8. Import Modules\\Module\\__init__.py\n"
     ]
    }
   ],
   "source": [
    "%%writefile \"E:\\Python in 3 days\\8. Import Modules\\Module\\__init__.py\"\n",
    "from . import Sub_Module2\n",
    "from . import Sub_Module1\n",
    "\n",
    "## Following will raise error!\n",
    "# import Sub_Module2\n",
    "# import Sub_Module1\n",
    "__all__ = [\"Sub_Module1\",\n",
    "          \"Sub_Module2\",]"
   ]
  },
  {
   "cell_type": "code",
   "execution_count": 11,
   "id": "c36f4a38",
   "metadata": {},
   "outputs": [],
   "source": [
    "# The defined \"Module\" module lies in the current working directory\n",
    "# absolute import\n",
    "\n",
    "import Module\n",
    "import Module.Sub_Module1\n",
    "import Module.Sub_Module2\n",
    "\n",
    "import Module.Sub_Module1.func1\n",
    "import Module.Sub_Module1.func2\n",
    "import Module.Sub_Module2.func1\n",
    "\n",
    "# Below cannot work, why\n",
    "# import Module.Sub_Module1.func1.Func1\n",
    "# import Module.Sub_Module1.func2.Func2\n",
    "# import Module.Sub_Module2.func1.Func1\n",
    "\n",
    "\n",
    "from Module import Sub_Module1\n",
    "from Module import Sub_Module2\n",
    "from Module.Sub_Module2 import Func1\n",
    "from Module.Sub_Module1 import Func1\n",
    "from Module.Sub_Module2 import func1\n",
    "from Module.Sub_Module1 import func2\n",
    "from Module.Sub_Module1 import func1\n",
    "\n",
    "# Below raise error, why? How to change?\n",
    "# from Module.Sub_Module1 import Func2"
   ]
  },
  {
   "cell_type": "markdown",
   "id": "36194f8c",
   "metadata": {},
   "source": [
    "# 8.4 Module is in Another Folder"
   ]
  },
  {
   "cell_type": "code",
   "execution_count": 12,
   "id": "91ac1839",
   "metadata": {},
   "outputs": [
    {
     "ename": "ModuleNotFoundError",
     "evalue": "No module named 'Module_demo'",
     "output_type": "error",
     "traceback": [
      "\u001b[1;31m---------------------------------------------------------------------------\u001b[0m",
      "\u001b[1;31mModuleNotFoundError\u001b[0m                       Traceback (most recent call last)",
      "\u001b[1;32mC:\\Temp/ipykernel_1140/2452890521.py\u001b[0m in \u001b[0;36m<module>\u001b[1;34m\u001b[0m\n\u001b[0;32m      1\u001b[0m \u001b[1;31m# For above code, the defined \"Module\" module lies in the current working directory\u001b[0m\u001b[1;33m\u001b[0m\u001b[1;33m\u001b[0m\u001b[1;33m\u001b[0m\u001b[0m\n\u001b[0;32m      2\u001b[0m \u001b[1;31m# What if the \"Module_demo\" are in another directory, e.g. in ./figure/Demo\u001b[0m\u001b[1;33m\u001b[0m\u001b[1;33m\u001b[0m\u001b[1;33m\u001b[0m\u001b[0m\n\u001b[1;32m----> 3\u001b[1;33m \u001b[1;32mimport\u001b[0m \u001b[0mModule_demo\u001b[0m \u001b[1;31m# raise error\u001b[0m\u001b[1;33m\u001b[0m\u001b[1;33m\u001b[0m\u001b[0m\n\u001b[0m",
      "\u001b[1;31mModuleNotFoundError\u001b[0m: No module named 'Module_demo'"
     ]
    }
   ],
   "source": [
    "# For above code, the defined \"Module\" module lies in the current working directory\n",
    "# What if the \"Module_demo\" are in another directory, e.g. in ./figure/Demo\n",
    "import Module_demo # raise error"
   ]
  },
  {
   "cell_type": "code",
   "execution_count": 13,
   "id": "6b1493d3",
   "metadata": {},
   "outputs": [
    {
     "name": "stdout",
     "output_type": "stream",
     "text": [
      "['E:\\\\Python in 3 days\\\\8. Import Modules', 'D:\\\\Anaconda\\\\python39.zip', 'D:\\\\Anaconda\\\\DLLs', 'D:\\\\Anaconda\\\\lib', 'D:\\\\Anaconda', '', 'D:\\\\Anaconda\\\\lib\\\\site-packages', 'D:\\\\Anaconda\\\\lib\\\\site-packages\\\\image_search-0.0.1-py3.9.egg', 'D:\\\\Anaconda\\\\lib\\\\site-packages\\\\fake_useragent-0.1.11-py3.9.egg', 'D:\\\\Anaconda\\\\lib\\\\site-packages\\\\bs4-0.0.1-py3.9.egg', 'D:\\\\Anaconda\\\\lib\\\\site-packages\\\\lxml-4.9.1-py3.9-win-amd64.egg', 'D:\\\\Anaconda\\\\lib\\\\site-packages\\\\pathlib-1.0.1-py3.9.egg', 'D:\\\\Anaconda\\\\lib\\\\site-packages\\\\argparse-1.4.0-py3.9.egg', 'D:\\\\Anaconda\\\\lib\\\\site-packages\\\\beautifulsoup4-4.11.1-py3.9.egg', 'D:\\\\Anaconda\\\\lib\\\\site-packages\\\\soupsieve-2.3.2.post1-py3.9.egg', 'D:\\\\Anaconda\\\\lib\\\\site-packages\\\\win32', 'D:\\\\Anaconda\\\\lib\\\\site-packages\\\\win32\\\\lib', 'D:\\\\Anaconda\\\\lib\\\\site-packages\\\\Pythonwin', 'D:\\\\Anaconda\\\\lib\\\\site-packages\\\\IPython\\\\extensions', 'C:\\\\Users\\\\Xinze&Fannie\\\\.ipython']\n",
      "['E:\\\\Python in 3 days\\\\8. Import Modules', 'D:\\\\Anaconda\\\\python39.zip', 'D:\\\\Anaconda\\\\DLLs', 'D:\\\\Anaconda\\\\lib', 'D:\\\\Anaconda', '', 'D:\\\\Anaconda\\\\lib\\\\site-packages', 'D:\\\\Anaconda\\\\lib\\\\site-packages\\\\image_search-0.0.1-py3.9.egg', 'D:\\\\Anaconda\\\\lib\\\\site-packages\\\\fake_useragent-0.1.11-py3.9.egg', 'D:\\\\Anaconda\\\\lib\\\\site-packages\\\\bs4-0.0.1-py3.9.egg', 'D:\\\\Anaconda\\\\lib\\\\site-packages\\\\lxml-4.9.1-py3.9-win-amd64.egg', 'D:\\\\Anaconda\\\\lib\\\\site-packages\\\\pathlib-1.0.1-py3.9.egg', 'D:\\\\Anaconda\\\\lib\\\\site-packages\\\\argparse-1.4.0-py3.9.egg', 'D:\\\\Anaconda\\\\lib\\\\site-packages\\\\beautifulsoup4-4.11.1-py3.9.egg', 'D:\\\\Anaconda\\\\lib\\\\site-packages\\\\soupsieve-2.3.2.post1-py3.9.egg', 'D:\\\\Anaconda\\\\lib\\\\site-packages\\\\win32', 'D:\\\\Anaconda\\\\lib\\\\site-packages\\\\win32\\\\lib', 'D:\\\\Anaconda\\\\lib\\\\site-packages\\\\Pythonwin', 'D:\\\\Anaconda\\\\lib\\\\site-packages\\\\IPython\\\\extensions', 'C:\\\\Users\\\\Xinze&Fannie\\\\.ipython', 'E:\\\\Python in 3 days\\\\8. Import Modules\\\\figures\\\\Demo']\n"
     ]
    }
   ],
   "source": [
    "# Because the search path of python modules import is defined in sys.path (a list), we can append the directory of the module to be imported\n",
    "# Note that appending to sys.path is not permanent\n",
    "import sys\n",
    "print(sys.path) # Defines the search path for import\n",
    "sys.path.append(r'E:\\Python in 3 days\\8. Import Modules\\figures\\Demo')\n",
    "print(sys.path)\n",
    "import Module_demo"
   ]
  },
  {
   "cell_type": "code",
   "execution_count": null,
   "id": "a2d30277",
   "metadata": {},
   "outputs": [],
   "source": []
  }
 ],
 "metadata": {
  "kernelspec": {
   "display_name": "Python 3 (ipykernel)",
   "language": "python",
   "name": "python3"
  },
  "language_info": {
   "codemirror_mode": {
    "name": "ipython",
    "version": 3
   },
   "file_extension": ".py",
   "mimetype": "text/x-python",
   "name": "python",
   "nbconvert_exporter": "python",
   "pygments_lexer": "ipython3",
   "version": "3.9.5"
  }
 },
 "nbformat": 4,
 "nbformat_minor": 5
}
