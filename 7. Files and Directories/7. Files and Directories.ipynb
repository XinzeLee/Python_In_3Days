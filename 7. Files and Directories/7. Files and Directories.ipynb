{
 "cells": [
  {
   "cell_type": "markdown",
   "id": "37ef43dd",
   "metadata": {},
   "source": [
    "# 7.1 Basics about \"os\" module\n",
    "    Provides a portable way of using operating system dependent functionality, here we focus on the applications on files and directories. Some commonly used functions are given below:\n",
    "* Commonly-used functions under \"os\"\n",
    " * os.getcwd\n",
    " * os.chdir\n",
    " * os.listdir\n",
    " * os.makedirs / os.removedirs\n",
    " * os.rename\n",
    "* Commonly-used functions under \"os.path\"\n",
    " * os.path.abspath\n",
    " * os.path.relpat\n",
    " * os.path.dirname\n",
    " * os.path.exists\n",
    " * os.path.join\n",
    " * os.path.isdir\n",
    " * os.path.isfile\n",
    " * os.path.split\n",
    " * os.path.splitext\n",
    " * os.path.basename"
   ]
  },
  {
   "cell_type": "code",
   "execution_count": null,
   "id": "b6b46383",
   "metadata": {},
   "outputs": [],
   "source": [
    "import os # import os module\n",
    "\n",
    "# get current working directory\n",
    "print(os.getcwd())\n",
    "print(os.listdir()) # list the contents in directory\n",
    "\n",
    "# change cwd\n",
    "os.chdir('./Dir1')\n",
    "print(os.getcwd())\n",
    "# change it back\n",
    "os.chdir('../')\n",
    "print(os.getcwd())\n",
    "print('\\n')\n",
    "\n",
    "# relative path\n",
    "rel_path = \"./Check exists.txt\"\n",
    "# rel_path = \"Check exists.txt\" # can work\n",
    "print(os.path.exists(rel_path))\n",
    "\n",
    "# absolute path, please modify the following statement to be correct according to the path in your own computer\n",
    "abs_path = r\"E:\\Python in 3 days\\7. Files and Directories\\Check exists.txt\"\n",
    "# abs_path = \"E:\\Python in 3 days\\7. Files and Directories\" # will raise error\n",
    "print(os.path.exists(abs_path))"
   ]
  },
  {
   "cell_type": "code",
   "execution_count": null,
   "id": "2d7edcf3",
   "metadata": {},
   "outputs": [],
   "source": [
    "# use relative path to build directories\n",
    "os.makedirs('./demo-level1/demo-level2')\n",
    "os.makedirs('./demo2-level1/demo2-level2/demo2-level3') # Open the folder where this notebook is located to see the generated directories\n",
    "\n",
    "# or use absolute path to build directories\n",
    "# os.makedirs(r'E:\\Python in 3 days\\7. Files and Directories\\demo\\demo-level1\\demo-level2')\n",
    "# os.makedirs(r'E:\\Python in 3 days\\7. Files and Directories\\demo\\demo2-level1\\demo2-level2\\demo2-level3')"
   ]
  },
  {
   "cell_type": "code",
   "execution_count": null,
   "id": "97a2704c",
   "metadata": {},
   "outputs": [],
   "source": [
    "# check whether directories exist and delete the generated directories\n",
    "print(os.path.exists('demo-level1/demo-level2'))\n",
    "print(os.path.exists('demo2-level1/demo2-level2/demo2-level3'))\n",
    "if os.path.exists('demo-level1/demo-level2'):\n",
    "    os.removedirs('demo-level1/demo-level2')\n",
    "    print('Successfully Removed')\n",
    "if os.path.exists('demo2-level1/demo2-level2/demo2-level3'):\n",
    "    os.removedirs('demo2-level1/demo2-level2/demo2-level3')\n",
    "    print('Successfully Removed')"
   ]
  },
  {
   "cell_type": "code",
   "execution_count": null,
   "id": "27f20d9f",
   "metadata": {},
   "outputs": [],
   "source": [
    "# rename./Dir1/Demo.txt file\n",
    "print(os.path.exists('./Dir1/Demo.txt'))\n",
    "os.rename('./Dir1/Demo.txt', './Dir1/Demo2.txt')\n",
    "print(os.path.exists('./Dir1/Demo2.txt')) # Check existence"
   ]
  },
  {
   "cell_type": "code",
   "execution_count": null,
   "id": "97125f6f",
   "metadata": {},
   "outputs": [],
   "source": [
    "# rename it back\n",
    "os.rename('./Dir1/Demo2.txt', './Dir1/Demo.txt')\n",
    "print(os.path.exists('./Dir1/Demo.txt')) # Check existence"
   ]
  },
  {
   "cell_type": "code",
   "execution_count": null,
   "id": "45eae562",
   "metadata": {},
   "outputs": [],
   "source": [
    "# use relative path to build directories\n",
    "if not os.path.exists('./demo/demo-level1/demo-level2'):\n",
    "    os.makedirs('./demo/demo-level1/demo-level2')\n",
    "if not os.path.exists('./demo/demo2-level1/demo2-level2/demo2-level3'):\n",
    "    os.makedirs('./demo/demo2-level1/demo2-level2/demo2-level3') # Open the folder where this notebook is located to see the generated directories\n",
    "\n",
    "# os.walk to traverse each path and file under the folder\n",
    "for dirpath, dirnames, filenames in os.walk('./demo'):\n",
    "    print('Current path:', dirpath) #  windows path: back-slash \\\n",
    "    print('Directories:', dirnames)\n",
    "    print('Files:', filenames)"
   ]
  },
  {
   "cell_type": "code",
   "execution_count": null,
   "id": "9383900c",
   "metadata": {},
   "outputs": [],
   "source": [
    "# Commonly-used functions under \"os.path\"\n",
    "file_path = os.path.join(os.getcwd(), 'Dir1/test.txt')\n",
    "print(file_path)\n",
    "# raw string\n",
    "print(repr(file_path))\n",
    "print('\\n')\n",
    "\n",
    "# absolute path，modify below\n",
    "file_path_format1 = r\"E:\\Python in 3 days\\7. Files and Directories\\Dir1\\test.txt\"\n",
    "file_path_format2 = 'E:\\\\Python in 3 days\\\\7. Files and Directories\\\\Dir1\\\\test.txt'\n",
    "# relative path\n",
    "file_path_format3 = \"Dir1/test.txt\"\n",
    "file_path_format4 = \"./Dir1/test.txt\"\n",
    "\n",
    "print(os.path.exists(file_path_format1))\n",
    "print(os.path.exists(file_path_format2))\n",
    "print(os.path.exists(file_path_format3))\n",
    "print(os.path.exists(file_path_format4))"
   ]
  },
  {
   "cell_type": "code",
   "execution_count": null,
   "id": "01b5509c",
   "metadata": {},
   "outputs": [],
   "source": [
    "# some basic functions, please understand them\n",
    "print(os.path.basename('./temp/test.txt'))\n",
    "print(os.path.split('./temp/test.txt'))\n",
    "print(os.path.exists('./temp/test.txt'))\n",
    "print(os.path.isdir('./test'))\n",
    "print(os.path.isfile('./temp/test.txt'))\n",
    "print(os.path.splitext('./temp/test.txt'))"
   ]
  },
  {
   "cell_type": "markdown",
   "id": "1ab3e82e",
   "metadata": {},
   "source": [
    "# 7.2 \"shutil\" module and \"zipfile\" module\n",
    "    \"shutil\" module is for high-level file operations, like copy, move;\n",
    "    \"zipfile\" module is for zip and unzip files"
   ]
  },
  {
   "cell_type": "code",
   "execution_count": null,
   "id": "cc474ce1",
   "metadata": {},
   "outputs": [],
   "source": [
    "# shutil.copy function to copy file\n",
    "import shutil\n",
    "shutil.copy('Check exists.txt', 'New name in same folder.txt')\n",
    "shutil.copy('Check exists.txt', './Dir1/Check exists.txt') # open the file manager to see the effect"
   ]
  },
  {
   "cell_type": "code",
   "execution_count": null,
   "id": "bba2820a",
   "metadata": {},
   "outputs": [],
   "source": [
    "# delete those files\n",
    "os.remove('New name in same folder.txt')\n",
    "os.remove('./Dir1/Check exists.txt')"
   ]
  },
  {
   "cell_type": "code",
   "execution_count": null,
   "id": "59d30175",
   "metadata": {},
   "outputs": [],
   "source": [
    "# shutil.move function to move file\n",
    "shutil.move('Check exists.txt', './Dir1/Check exists.txt') # open the file manager to see the effect"
   ]
  },
  {
   "cell_type": "code",
   "execution_count": null,
   "id": "4e3cc05c",
   "metadata": {},
   "outputs": [],
   "source": [
    "# move back\n",
    "shutil.move('./Dir1/Check exists.txt', 'Check exists.txt') # open the file manager to see the effect"
   ]
  },
  {
   "cell_type": "code",
   "execution_count": null,
   "id": "c5ec13bd",
   "metadata": {},
   "outputs": [],
   "source": [
    "# unzip files\n",
    "import zipfile\n",
    "\n",
    "path_to_zip_file = 'zipped.zip'\n",
    "directory_to_extract_to = 'zipped'\n",
    "with zipfile.ZipFile(path_to_zip_file, 'r') as zip_ref:\n",
    "    zip_ref.extractall(directory_to_extract_to)"
   ]
  },
  {
   "cell_type": "markdown",
   "id": "9895ea01",
   "metadata": {},
   "source": [
    "# 7.3 Read files and change file names"
   ]
  },
  {
   "cell_type": "code",
   "execution_count": null,
   "id": "73133d90",
   "metadata": {},
   "outputs": [],
   "source": [
    "import random\n",
    "\n",
    "path = \"./demo/read.txt\"\n",
    "\n",
    "# create file\n",
    "with open(path, 'w') as f:\n",
    "    for i in range(10):\n",
    "        f.write(f\"This is the {i+1}th line, random value is {random.random()}\")\n",
    "        if i != 9: f.write('\\n')"
   ]
  },
  {
   "cell_type": "code",
   "execution_count": null,
   "id": "07c85fe0",
   "metadata": {},
   "outputs": [],
   "source": [
    "# read files: method 1\n",
    "f = open(path)\n",
    "print(f)\n",
    "print(f.name, f.mode, f.encoding)\n",
    "print(f.read())\n",
    "f.close() # Be sure to close the file, otherwise the modified things will not be saved\n",
    "print('\\n')\n",
    "\n",
    "# read file: method 2\n",
    "with open(path, 'r') as f:\n",
    "    # Using with can avoid forgetting to close the file, because with will close the file by default after execution\n",
    "    f_contents = f.read()\n",
    "    print(type(f_contents))\n",
    "    print(f)\n",
    "    print(f.name, f.mode, f.encoding)\n",
    "    print(f_contents)"
   ]
  },
  {
   "cell_type": "code",
   "execution_count": null,
   "id": "ac21a7fc",
   "metadata": {},
   "outputs": [],
   "source": [
    "# readlines\n",
    "with open(path, 'r') as f:\n",
    "    f_contents = f.readlines()\n",
    "    print(type(f_contents))\n",
    "    print(f_contents)"
   ]
  },
  {
   "cell_type": "code",
   "execution_count": null,
   "id": "35af892d",
   "metadata": {},
   "outputs": [],
   "source": [
    "file_target = './Dir1/DemoFig-0001.jpg'\n",
    "file_to = './Dir1/Your Name of File.jpg'\n",
    "\n",
    "if os.path.exists(file_to):\n",
    "    os.remove(file_to)\n",
    "\n",
    "# read .jpg file in binary format\n",
    "with open(file_target, 'rb') as ftgt:\n",
    "    # write to the new file\n",
    "    with open(file_to, 'wb') as fto:\n",
    "        fto.write(ftgt.read())"
   ]
  },
  {
   "cell_type": "code",
   "execution_count": null,
   "id": "4b57a3d0",
   "metadata": {},
   "outputs": [],
   "source": [
    "# change file name\n",
    "path = './Dir1/change_name'\n",
    "files = os.listdir(path)\n",
    "\n",
    "for file in files:\n",
    "    name, ext = os.path.splitext(file)\n",
    "    if ext in ['.jpg', '.jpeg', '.png']:\n",
    "        name0, ID0 = name.split('#')\n",
    "        ID0 = ID0.zfill(4)\n",
    "        new_name = f\"{name0}-{ID0}\"+ext\n",
    "        os.rename(os.path.join(path, file), os.path.join(path, new_name))\n",
    "        print(new_name)\n",
    "# Open file to see"
   ]
  },
  {
   "cell_type": "code",
   "execution_count": null,
   "id": "4cd940cc",
   "metadata": {},
   "outputs": [],
   "source": []
  },
  {
   "cell_type": "code",
   "execution_count": null,
   "id": "8c40ef43",
   "metadata": {},
   "outputs": [],
   "source": []
  }
 ],
 "metadata": {
  "kernelspec": {
   "display_name": "Python 3 (ipykernel)",
   "language": "python",
   "name": "python3"
  },
  "language_info": {
   "codemirror_mode": {
    "name": "ipython",
    "version": 3
   },
   "file_extension": ".py",
   "mimetype": "text/x-python",
   "name": "python",
   "nbconvert_exporter": "python",
   "pygments_lexer": "ipython3",
   "version": "3.9.5"
  }
 },
 "nbformat": 4,
 "nbformat_minor": 5
}
