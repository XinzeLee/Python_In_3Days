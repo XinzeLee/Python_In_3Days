{
 "cells": [
  {
   "cell_type": "markdown",
   "id": "15205a78",
   "metadata": {},
   "source": [
    "# 1.1 List and Tuple\n",
    "    List: mutable, iterable\n",
    "    Tuple: immutable, iterable"
   ]
  },
  {
   "cell_type": "markdown",
   "id": "37870a77",
   "metadata": {},
   "source": [
    "## **List**"
   ]
  },
  {
   "cell_type": "code",
   "execution_count": 1,
   "id": "bd98f113",
   "metadata": {},
   "outputs": [
    {
     "name": "stdout",
     "output_type": "stream",
     "text": [
      "Computer Science\n",
      "4\n",
      "['History', 'math']\n",
      "['physics', 'Computer Science']\n"
     ]
    }
   ],
   "source": [
    "Courses = ['History', 'math', 'physics', 'Computer Science']\n",
    "Courses2 = ['Bio', 'Eng']\n",
    "print(Courses[-1])     # To get the last item\n",
    "print(len(Courses))\n",
    "print(Courses[:2])\n",
    "print(Courses[2:])"
   ]
  },
  {
   "cell_type": "code",
   "execution_count": 2,
   "id": "2280d60f",
   "metadata": {},
   "outputs": [
    {
     "name": "stdout",
     "output_type": "stream",
     "text": [
      "['Not a Subject', 'math', 'physics', 'Computer Science']\n",
      "\n",
      "\n",
      "['Not a Subject', 'math', 'physics', 'Computer Science', 'Art']\n",
      "\n",
      "\n",
      "['Art', 'Not a Subject', 'math', 'physics', 'Computer Science', 'Art']\n",
      "\n",
      "\n",
      "['Art', 'Not a Subject', 'physics', 'Computer Science', 'Art']\n",
      "\n",
      "\n",
      "['Art', 'Not a Subject', 'physics', 'Computer Science'] Art\n"
     ]
    }
   ],
   "source": [
    "# adjustable\n",
    "\n",
    "Courses = ['History', 'math', 'physics', 'Computer Science']\n",
    "Courses2 = ['Bio', 'Eng']\n",
    "\n",
    "Courses[0] = 'Not a Subject'\n",
    "print(Courses)\n",
    "print('\\n')\n",
    "#Courses = Courses.append('Art')  # error demonstration: no return on the list \"append\" operation\n",
    "Courses.append('Art')\n",
    "print(Courses)\n",
    "print('\\n')\n",
    "\n",
    "Courses.insert(0,'Art')\n",
    "print(Courses)\n",
    "print('\\n')\n",
    "# Courses.insert(0,Courses2) # can insert other list, dict, tuple, other objects, etc\n",
    "# print(Courses)\n",
    "\n",
    "Courses.remove('math')\n",
    "print(Courses)\n",
    "print('\\n')\n",
    "\n",
    "Popped = Courses.pop()\n",
    "print(Courses, Popped)"
   ]
  },
  {
   "cell_type": "code",
   "execution_count": 3,
   "id": "5fed6016",
   "metadata": {},
   "outputs": [
    {
     "name": "stdout",
     "output_type": "stream",
     "text": [
      "['History', 'math', 'physics', 'Computer Science', 'Bio', 'Eng'] 6\n",
      "\n",
      "\n",
      "['History', 'math', 'physics', 'Computer Science', ['Bio', 'Eng']] 5\n"
     ]
    }
   ],
   "source": [
    "Courses = ['History', 'math', 'physics', 'Computer Science']\n",
    "Courses2 = ['Bio', 'Eng']\n",
    "\n",
    "Courses.extend(Courses2)\n",
    "print(Courses, len(Courses))\n",
    "print('\\n')\n",
    "\n",
    "Courses = ['History', 'math', 'physics', 'Computer Science']\n",
    "Courses2 = ['Bio', 'Eng']\n",
    "Courses.append(Courses2)\n",
    "print(Courses, len(Courses))"
   ]
  },
  {
   "cell_type": "code",
   "execution_count": 4,
   "id": "7fd86073",
   "metadata": {},
   "outputs": [
    {
     "name": "stdout",
     "output_type": "stream",
     "text": [
      "['Computer Science', 'physics', 'math', 'History']\n",
      "\n",
      "\n",
      "[7, 5, 3, 2, 1, 0]\n",
      "[1, 5, 2, 3, 7, 0]\n",
      "[0, 1, 2, 3, 5, 7]\n"
     ]
    }
   ],
   "source": [
    "Courses = ['History', 'math', 'physics', 'Computer Science']\n",
    "Courses2 = ['Bio', 'Eng']\n",
    "nums = [1, 5, 2, 3, 7, 0]\n",
    "nums2 = [1, 5, 2, 3, 7, 0]\n",
    "\n",
    "Courses.reverse()\n",
    "print(Courses)\n",
    "print('\\n')\n",
    "\n",
    "# please compare below and reflect\n",
    "nums.sort(reverse = True)   # no return, inplace operation (please learn the concept of \"inplace\")\n",
    "print(nums)\n",
    "A = sorted(nums2)   # have return, not inplace operation\n",
    "print(nums2)\n",
    "print(A)"
   ]
  },
  {
   "cell_type": "code",
   "execution_count": 5,
   "id": "cae07687",
   "metadata": {},
   "outputs": [
    {
     "name": "stdout",
     "output_type": "stream",
     "text": [
      "True\n",
      "\n",
      "\n",
      "0 History\n",
      "1 math\n",
      "2 physics\n",
      "3 Computer Science\n",
      "\n",
      "\n",
      "0 History\n",
      "1 math\n",
      "2 physics\n",
      "3 Computer Science\n",
      "\n",
      "\n",
      "History, math, physics, Computer Science\n",
      "History - math - physics - Computer Science\n",
      "['History', 'math', 'physics', 'Computer Science']\n"
     ]
    }
   ],
   "source": [
    "Courses = ['History', 'math', 'physics', 'Computer Science']\n",
    "\n",
    "Courses.index('physics')\n",
    "print('math' in Courses)\n",
    "print('\\n')\n",
    "\n",
    "# iterable\n",
    "for index, course in enumerate(Courses):\n",
    "    print(index, course)\n",
    "print('\\n')\n",
    "for index, course in enumerate(Courses):\n",
    "    print(index, course)\n",
    "print('\\n')\n",
    "    \n",
    "# some functions for \"str\" type\n",
    "Course_str = ', '.join(Courses)\n",
    "print(Course_str)\n",
    "Course_str1 = ' - '.join(Courses)\n",
    "print(Course_str1)\n",
    "new_list = Course_str.split(', ')\n",
    "print(new_list)"
   ]
  },
  {
   "cell_type": "code",
   "execution_count": 6,
   "id": "647cf949",
   "metadata": {},
   "outputs": [
    {
     "name": "stdout",
     "output_type": "stream",
     "text": [
      "True True\n",
      "[0, 2, 3, 4, 5]\n",
      "[0, 2, 3, 4, 5]\n",
      "2834255291712 2834255291712\n",
      "\n",
      "\n",
      "True False\n",
      "[0, 2, 3, 4, 5]\n",
      "[1, 2, 3, 4, 5]\n",
      "2834255200832 2834255087168\n"
     ]
    }
   ],
   "source": [
    "\"\"\"Difference between \" == \" and \" is \":\n",
    "    * \" is \": Objective identity\n",
    "    *  \" == \": If value equal\"\"\"\n",
    "\n",
    "list0 = [1, 2, 3, 4, 5]\n",
    "list2 = list0\n",
    "print(list0==list2, list0 is list2)\n",
    "# What have you found below ?\n",
    "list0[0] = 0\n",
    "print(list0)\n",
    "print(list2)\n",
    "print(id(list0), id(list2))\n",
    "print('\\n')\n",
    "\n",
    "list0 = [1, 2, 3, 4, 5]\n",
    "list2 = [item for item in list0]\n",
    "print(list0==list2, list0 is list2)\n",
    "# Compare with former codes, what have you learnt?\n",
    "list0[0] = 0\n",
    "print(list0)\n",
    "print(list2)\n",
    "print(id(list0), id(list2))"
   ]
  },
  {
   "cell_type": "markdown",
   "id": "807ae89a",
   "metadata": {},
   "source": [
    "## **Tuple**"
   ]
  },
  {
   "cell_type": "code",
   "execution_count": 7,
   "id": "344d80c7",
   "metadata": {},
   "outputs": [
    {
     "name": "stdout",
     "output_type": "stream",
     "text": [
      "<class 'list'> <class 'list'>\n",
      "<class 'tuple'> <class 'tuple'>\n",
      "\n",
      "\n",
      "(1, 2, 3, 4)\n",
      "1\n",
      "([10, 0], 2, 3, 4)\n",
      "\n",
      "\n",
      "0 [10, 0]\n",
      "1 2\n",
      "2 3\n",
      "3 4\n"
     ]
    }
   ],
   "source": [
    "empty_list = []\n",
    "empty_list1 = list()\n",
    "empty_tuple = ()\n",
    "empty_tuple1 =tuple()\n",
    "print(type(empty_list), type(empty_list1))\n",
    "print(type(empty_tuple), type(empty_tuple1))\n",
    "print('\\n')\n",
    "\n",
    "nums = (1, 2, 3, 4)\n",
    "print(nums)\n",
    "print(nums[0])\n",
    "# nums[0] = 1 # raise error, tuple is immutable\n",
    "# But the lines below are executable, please find out why\n",
    "nums = ([1], 2, 3, 4)\n",
    "nums[0][0] = 10\n",
    "nums[0].append(0)\n",
    "print(nums)\n",
    "print('\\n')\n",
    "\n",
    "for index, num in enumerate(nums):\n",
    "    print(index, num)"
   ]
  },
  {
   "cell_type": "code",
   "execution_count": 8,
   "id": "77f88f13",
   "metadata": {},
   "outputs": [
    {
     "name": "stdout",
     "output_type": "stream",
     "text": [
      "hello\n",
      "['beauty', 'passion']\n",
      "impact\n",
      "hello\n",
      "['beauty', 'passion', 'impact']\n",
      "['hello', 'beauty', 'passion']\n",
      "impact\n",
      "hello\n",
      "impact\n",
      "passion\n",
      "impact\n"
     ]
    }
   ],
   "source": [
    "sample = ('hello','beauty','passion','impact') # tuple\n",
    "item1, *item2, item3 = sample\n",
    "print(item1)\n",
    "print(item2)\n",
    "print(item3) \n",
    "\n",
    "item1, *item2 = sample\n",
    "print(item1)\n",
    "print(item2)\n",
    "\n",
    "*item1, item2 = sample\n",
    "print(item1)\n",
    "print(item2)\n",
    "\n",
    "# throwing away unwanted elements from defined tuple\n",
    "\n",
    "item1,*_, item2 = sample\n",
    "print(item1)\n",
    "print(item2)\n",
    "\n",
    "*_,item1, item2 = sample\n",
    "print(item1)\n",
    "print(item2)"
   ]
  },
  {
   "cell_type": "markdown",
   "id": "6eeaa478",
   "metadata": {},
   "source": [
    "# 1.2 Dictionary and Set\n",
    "    Dictionary: mutable, iterable, no order\n",
    "    Set: immutable, iterable, no order, elements are non-repeatable"
   ]
  },
  {
   "cell_type": "markdown",
   "id": "e990757e",
   "metadata": {},
   "source": [
    "## **Set**"
   ]
  },
  {
   "cell_type": "code",
   "execution_count": 9,
   "id": "0b7c64b6",
   "metadata": {},
   "outputs": [
    {
     "name": "stdout",
     "output_type": "stream",
     "text": [
      "{'physics', 'History', 'math', 'Computer Science'} <class 'set'>\n",
      "\n",
      "\n",
      "{'History', 'math'}\n",
      "{'physics', 'Computer Science'}\n",
      "{'Art', 'math', 'Computer Science', 'physics', 'History', 'Design'}\n",
      "\n",
      "\n",
      "{'physics', 'Computer Science'}\n",
      "{'History', 'math'}\n",
      "\n",
      "\n",
      "<class 'dict'> <class 'set'>\n",
      "\n",
      "\n",
      "physics\n",
      "History\n",
      "math\n",
      "Computer Science\n"
     ]
    }
   ],
   "source": [
    "Set_courses = {'History', 'math', 'physics', 'Computer Science'}\n",
    "Set_courses1 = {'History', 'math', 'Art', 'Design'}\n",
    "print(Set_courses, type(Set_courses))\n",
    "print('\\n')\n",
    "\n",
    "print(Set_courses.intersection(Set_courses1))\n",
    "print(Set_courses.difference(Set_courses1))\n",
    "print(Set_courses.union(Set_courses1))\n",
    "print('\\n')\n",
    "\n",
    "print(Set_courses-Set_courses1)\n",
    "print(Set_courses&Set_courses1)\n",
    "print('\\n')\n",
    "\n",
    "empty_set = {}         # this is an empty dict\n",
    "empty_set1 = set()\n",
    "print(type(empty_set), type(empty_set1))\n",
    "print('\\n')\n",
    "\n",
    "for item in Set_courses:\n",
    "    print(item)"
   ]
  },
  {
   "cell_type": "markdown",
   "id": "f4df13f0",
   "metadata": {},
   "source": [
    "## **Dictionary**"
   ]
  },
  {
   "cell_type": "code",
   "execution_count": 10,
   "id": "df444832",
   "metadata": {},
   "outputs": [
    {
     "name": "stdout",
     "output_type": "stream",
     "text": [
      "{'name': 'John', 'age': 25, 'courses': ['math', 'Computer science']} <class 'dict'>\n",
      "John\n",
      "\n",
      "\n",
      "dict_keys(['name', 'age', 'courses'])\n",
      "dict_values(['John', 25, ['math', 'Computer science']])\n",
      "dict_items([('name', 'John'), ('age', 25), ('courses', ['math', 'Computer science'])])\n",
      "\n",
      "\n",
      "John\n",
      "None\n",
      "Not Found\n",
      "\n",
      "\n",
      "{'name': 'jane', 'age': 25, 'courses': ['math', 'Computer science'], 'phone': '555-55555'}\n",
      "\n",
      "\n",
      "{'name': 'Jon', 'age': 26, 'courses': ['math', 'Computer science'], 'phone': '222-22222'}\n",
      "\n",
      "\n",
      "{'name': 'Jon', 'courses': ['math', 'Computer science'], 'phone': '222-22222'}\n",
      "\n",
      "\n",
      "20\n",
      "False\n",
      "\n",
      "\n",
      "{'phone': '222-22222'}\n",
      "name Jon\n",
      "courses ['math', 'Computer science']\n",
      "phone 222-22222\n"
     ]
    }
   ],
   "source": [
    "student = {'name' : 'John', 'age' : 25, 'courses' : ['math', 'Computer science']}\n",
    "\n",
    "print(student, type(student))\n",
    "print(student['name'])    #print(student('name')) will raise error, why?\n",
    "print('\\n')\n",
    "\n",
    "# three important components of dict: keys, values, items\n",
    "print(student.keys())\n",
    "print(student.values())\n",
    "print(student.items())\n",
    "print('\\n')\n",
    "\n",
    "# query\n",
    "print(student.get('name'))\n",
    "print(student.get('phone'))\n",
    "print(student.get('phone', 'Not Found'))\n",
    "print('\\n')\n",
    "\n",
    "# assign\n",
    "student['phone'] = '555-55555'\n",
    "student['name'] = 'jane'\n",
    "print(student)\n",
    "print('\\n')\n",
    "\n",
    "student.update({'name':'Jon', 'age' : 26, 'phone' : '222-22222'})    #take dict as input\n",
    "print(student)\n",
    "print('\\n')\n",
    "\n",
    "del(student['age'])\n",
    "print(student)\n",
    "print('\\n')\n",
    "\n",
    "student['age'] = 20\n",
    "age = student.pop('age')\n",
    "print(age)\n",
    "print('age' in student.keys())\n",
    "print('\\n')\n",
    "\n",
    "Student = {key: value for key, value in student.items() if len(value)>5}\n",
    "print(Student)\n",
    "for key, value in student.items():\n",
    "    print(key, value)"
   ]
  },
  {
   "cell_type": "code",
   "execution_count": 11,
   "id": "47d9141b",
   "metadata": {},
   "outputs": [
    {
     "name": "stdout",
     "output_type": "stream",
     "text": [
      "{1: 1, 2: 2}\n",
      "1\n",
      "{'1': 1, '2': 2}\n",
      "1\n"
     ]
    },
    {
     "ename": "KeyError",
     "evalue": "1",
     "output_type": "error",
     "traceback": [
      "\u001b[1;31m---------------------------------------------------------------------------\u001b[0m",
      "\u001b[1;31mKeyError\u001b[0m                                  Traceback (most recent call last)",
      "\u001b[1;32mC:\\Temp/ipykernel_28312/210085109.py\u001b[0m in \u001b[0;36m<module>\u001b[1;34m\u001b[0m\n\u001b[0;32m      8\u001b[0m \u001b[0mprint\u001b[0m\u001b[1;33m(\u001b[0m\u001b[0mdict2\u001b[0m\u001b[1;33m)\u001b[0m\u001b[1;33m\u001b[0m\u001b[1;33m\u001b[0m\u001b[0m\n\u001b[0;32m      9\u001b[0m \u001b[0mprint\u001b[0m\u001b[1;33m(\u001b[0m\u001b[0mdict2\u001b[0m\u001b[1;33m[\u001b[0m\u001b[1;34m'1'\u001b[0m\u001b[1;33m]\u001b[0m\u001b[1;33m)\u001b[0m\u001b[1;33m\u001b[0m\u001b[1;33m\u001b[0m\u001b[0m\n\u001b[1;32m---> 10\u001b[1;33m \u001b[0mprint\u001b[0m\u001b[1;33m(\u001b[0m\u001b[0mdict2\u001b[0m\u001b[1;33m[\u001b[0m\u001b[1;36m1\u001b[0m\u001b[1;33m]\u001b[0m\u001b[1;33m)\u001b[0m \u001b[1;31m# will raise error\u001b[0m\u001b[1;33m\u001b[0m\u001b[1;33m\u001b[0m\u001b[0m\n\u001b[0m",
      "\u001b[1;31mKeyError\u001b[0m: 1"
     ]
    }
   ],
   "source": [
    "# please differentiate below\n",
    "\n",
    "dict1 = {1: 1, 2: 2}\n",
    "print(dict1)\n",
    "print(dict1[1])\n",
    "\n",
    "dict2 = {'1': 1, '2': 2}\n",
    "print(dict2)\n",
    "print(dict2['1'])\n",
    "print(dict2[1]) # will raise error"
   ]
  },
  {
   "cell_type": "code",
   "execution_count": 12,
   "id": "1a18e539",
   "metadata": {},
   "outputs": [
    {
     "name": "stdout",
     "output_type": "stream",
     "text": [
      "{'a': 1000, 'b': 500, 'c': 2000, 'd': 50, 'e': 10000}\n",
      "\n",
      "\n",
      "a\n",
      "e\n",
      "['a', 'b', 'c', 'd', 'e']\n",
      "\n",
      "\n",
      "['d', 'b', 'a', 'c', 'e']\n",
      "\n",
      "\n",
      "[(1000, 'a'), (500, 'b'), (2000, 'c'), (50, 'd'), (10000, 'e')]\n",
      "\n",
      "\n",
      "(50, 'd')\n",
      "(10000, 'e')\n",
      "[(50, 'd'), (500, 'b'), (1000, 'a'), (2000, 'c'), (10000, 'e')]\n"
     ]
    }
   ],
   "source": [
    "dict1 = {}\n",
    "dict1['a'] = 1000\n",
    "dict1['b'] = 500\n",
    "dict1['c'] = 2000\n",
    "dict1['d'] = 50\n",
    "dict1['e'] = 10000\n",
    "\n",
    "print(dict1)\n",
    "print('\\n')\n",
    "\n",
    "# sort by keys\n",
    "print(min(dict1))\n",
    "print(max(dict1))\n",
    "print(sorted(dict1))\n",
    "print('\\n')\n",
    "\n",
    "# sort by values\n",
    "print(sorted(dict1, key=dict1.get))\n",
    "print('\\n')\n",
    "\n",
    "# use \"zip\" to put values and keys together into tuple-like structure\n",
    "zip_kv = list(zip(dict1.values(), dict1.keys()))\n",
    "print(zip_kv)\n",
    "print('\\n')\n",
    "\n",
    "min_value = min(zip_kv)\n",
    "print(min_value)\n",
    "max_value = max(zip_kv)\n",
    "print(max_value)\n",
    "sorted_value = sorted(zip_kv)\n",
    "print(sorted_value)"
   ]
  },
  {
   "cell_type": "markdown",
   "id": "299fa7c5",
   "metadata": {},
   "source": [
    "# 1.3 Data Types\n",
    "* float\n",
    "* int\n",
    "* string\n",
    "* bool\n",
    "* class\n",
    "* function"
   ]
  },
  {
   "cell_type": "markdown",
   "id": "3f8d7f05",
   "metadata": {},
   "source": [
    "### **float**"
   ]
  },
  {
   "cell_type": "code",
   "execution_count": 13,
   "id": "9116310f",
   "metadata": {},
   "outputs": [
    {
     "name": "stdout",
     "output_type": "stream",
     "text": [
      "29.31 <class 'float'>\n",
      "29.31\n",
      "\n",
      "\n",
      "88.03143004194237 <class 'float'>\n",
      "88.03 <class 'str'>\n",
      "88.03\n",
      "\n",
      "\n",
      "117.34\n"
     ]
    }
   ],
   "source": [
    "# round a floating-point number to a fixed number of decimal places\n",
    "import random \n",
    "\n",
    "sample_float = random.uniform(1,100)\n",
    "round_float = round(sample_float,2) # use of round function\n",
    "print(round_float, type(round_float))\n",
    "print(f'{sample_float:0.2f}')\n",
    "print('\\n')\n",
    "\n",
    "sample_float2 = random.uniform(1,100)\n",
    "print(sample_float2, type(round_float))\n",
    "round_float2 = format(sample_float2,'0.2f') #0.2f refers to 2nd decimal place\n",
    "print(round_float2, type(round_float2))\n",
    "print(f'{sample_float2:0.2f}')\n",
    "print('\\n')\n",
    "\n",
    "# watch the danger below :)\n",
    "answer = round_float + float(round_float2)\n",
    "print(answer)"
   ]
  },
  {
   "cell_type": "code",
   "execution_count": 14,
   "id": "05419216",
   "metadata": {},
   "outputs": [
    {
     "name": "stdout",
     "output_type": "stream",
     "text": [
      "     67.64\n",
      "\n",
      "\n",
      "40.61     \n",
      "\n",
      "\n",
      "   1.54   \n",
      "\n",
      "\n",
      "5,225.278\n",
      "\n",
      "\n",
      "382301.13387850934\n",
      "3.823011e+05\n",
      "\n",
      "\n",
      "577790.7871999479\n",
      "5.78e+05\n"
     ]
    }
   ],
   "source": [
    "# formatting numbers for output using format()\n",
    "import random\n",
    "# Right justified in 15 with 2-digit accuracy\n",
    "sample_float1 = random.uniform(1,100)\n",
    "round_float1 = format(sample_float1,'>10.2f') #0.2f refers to 2nd decimal place\n",
    "print(round_float1)\n",
    "print('\\n')\n",
    "\n",
    "# Left justified in 15 with 2-digit accuracy\n",
    "sample_float2 = random.uniform(1,100)\n",
    "round_float2 = format(sample_float2,'<10.2f') \n",
    "print(round_float2)\n",
    "print('\\n')\n",
    "\n",
    "# Left justified in 15 with 2-digit accuracy\n",
    "sample_float3 = random.uniform(1,100)\n",
    "round_float3 = format(sample_float3,'^10.2f') \n",
    "print(round_float3)\n",
    "print('\\n')\n",
    "\n",
    "# inclusion of thousand separator\n",
    "sample_float4 = random.uniform(1,10000)\n",
    "round_float4 = format(sample_float4,',.3f')\n",
    "print(round_float4)\n",
    "print('\\n')\n",
    "\n",
    "# use of exponential specifier\n",
    "sample_float5 = random.uniform(1,1000000)\n",
    "print(sample_float5)\n",
    "round_float5 = format(sample_float5,'e') # can be e or E\n",
    "print(round_float5)\n",
    "print('\\n')\n",
    "\n",
    "# use of exponential specifier with 2-digit accuracy\n",
    "sample_float6 = random.uniform(1,1000000)\n",
    "print(sample_float6)\n",
    "round_float6 = format(sample_float6,'0.2e') # can be e or E\n",
    "print(round_float6)"
   ]
  },
  {
   "cell_type": "markdown",
   "id": "c676989f",
   "metadata": {},
   "source": [
    "### **int**"
   ]
  },
  {
   "cell_type": "code",
   "execution_count": 15,
   "id": "3947c7aa",
   "metadata": {},
   "outputs": [
    {
     "name": "stdout",
     "output_type": "stream",
     "text": [
      "0xe8 <class 'str'>\n",
      "0o350 <class 'str'>\n",
      "0b11101000 <class 'str'>\n",
      "\n",
      "\n",
      "1000011001\n",
      "1031\n",
      "219\n",
      "\n",
      "\n",
      "-11001001\n",
      "-311\n",
      "-c9\n",
      "\n",
      "\n",
      "679\n",
      "1076105224\n"
     ]
    }
   ],
   "source": [
    "# working with binary, octal and hexadecimal \n",
    "import random \n",
    "\n",
    "sample_number =  random.randint(1,1000)\n",
    "print(hex(sample_number), type(hex(sample_number)))\n",
    "print(oct(sample_number), type(oct(sample_number)))\n",
    "print(bin(sample_number), type(bin(sample_number)))\n",
    "print('\\n')\n",
    "\n",
    "sample_number2 =  random.randint(1,1000)\n",
    "print(format(sample_number2,'b'))\n",
    "print(format(sample_number2,'o'))\n",
    "print(format(sample_number2,'x'))\n",
    "print('\\n')\n",
    "\n",
    "sample_number3 =  -(random.randint(1,1000))\n",
    "print(format(sample_number3,'b'))\n",
    "print(format(sample_number3,'o'))\n",
    "print(format(sample_number3,'x'))\n",
    "print('\\n')\n",
    "\n",
    "# convert back into integer\n",
    "print (int('2a7',16))\n",
    "print (int('10011010010',8))"
   ]
  },
  {
   "cell_type": "code",
   "execution_count": 16,
   "id": "dd4862d6",
   "metadata": {},
   "outputs": [
    {
     "name": "stdout",
     "output_type": "stream",
     "text": [
      "b'\\x00\\x00\\x00X\\xceI:\\xb5O\\xe0\\x9dP\\x8b\\x91Iv'\n",
      "b'vI\\x91\\x8bP\\x9d\\xe0O\\xb5:I\\xceX\\x00\\x00\\x00'\n",
      "16\n",
      "7035920742105163117392821307766\n",
      "157230893160349895814317235321255755776\n"
     ]
    }
   ],
   "source": [
    "sample_number =  random.randint(1,10e30)\n",
    "\n",
    "byte_transform1 = sample_number.to_bytes(16,'big') # 16 represents the number of bytes, 'big' or 'small' represent byte order\n",
    "print(byte_transform1)\n",
    "byte_transform2 = sample_number.to_bytes(16,'little')\n",
    "print(byte_transform2)\n",
    "\n",
    "length_byte = len(byte_transform2)\n",
    "print(length_byte)\n",
    "byte_transform_reverse1 = int.from_bytes(byte_transform2,'little')\n",
    "print(byte_transform_reverse1)\n",
    "byte_transform_reverse2 = int.from_bytes(byte_transform2,'big')\n",
    "print(byte_transform_reverse2)"
   ]
  },
  {
   "cell_type": "markdown",
   "id": "b532d294",
   "metadata": {},
   "source": [
    "### **string**"
   ]
  },
  {
   "cell_type": "code",
   "execution_count": 17,
   "id": "f4e9ea2e",
   "metadata": {},
   "outputs": [
    {
     "name": "stdout",
     "output_type": "stream",
     "text": [
      "abcdefghijklmnopqrstuvwxyzABCDEFGHIJKLMNOPQRSTUVWXYZ\n",
      "n J t C o e D Q T Z G T C M F L A P C I X E i T s k I U q w I J E N p t M F s s g R i c c s B a O X r V M R P v h o L h X X y P x T x d c J \n",
      "\n",
      "\n",
      "n J t C o e D Q T Z G T C M Fannie L A P C I X E i T s k I U q w I J E N p t M Fannie s s g R i c c s B a O X r V M R P v h o L h X X y P x T x d c J \n",
      "\n",
      "\n",
      "30-07-2021\n"
     ]
    }
   ],
   "source": [
    "# searching and replacing text\n",
    "import string \n",
    "import random \n",
    "letters = string.ascii_letters\n",
    "print(letters)\n",
    "value = random.randint(1,1e2)\n",
    "test_string = ''\n",
    "for i in range(value):\n",
    "    test_string += random.choice(letters)\n",
    "    test_string += \" \"\n",
    "print(test_string)\n",
    "print('\\n')\n",
    "\n",
    "modified_string = test_string.replace('F' or 'f', 'Fannie')\n",
    "modified_string = modified_string.replace('m' or 'M', '$$$')\n",
    "print(modified_string)\n",
    "print('\\n')\n",
    "\n",
    "sample1 = '30/07/2021'\n",
    "print(sample1.replace('/', '-'))"
   ]
  },
  {
   "cell_type": "code",
   "execution_count": 18,
   "id": "36669820",
   "metadata": {},
   "outputs": [
    {
     "name": "stdout",
     "output_type": "stream",
     "text": [
      "Hello\n",
      "world!\n",
      "Hello\n",
      "\n",
      "\n",
      "3\n",
      "1\n",
      "6\n",
      "-1\n",
      "Hello universe!\n",
      "Hello world!\n",
      "\n",
      "\n",
      "I loves Python\n",
      "I loves Python\n"
     ]
    }
   ],
   "source": [
    "msg = 'Hello world!'\n",
    "msg1 = \"Hello Python's world\"\n",
    "msg2 = 'Hello Python\\'s world'\n",
    "print(msg[0:5])   #cannot get item with index 5\n",
    "print(msg[6:])\n",
    "print(msg[:5])\n",
    "print('\\n')\n",
    "\n",
    "print(msg.count('l'))\n",
    "print(msg.count('Hello'))\n",
    "print(msg.find('world'))\n",
    "print(msg.find('WWorld'))\n",
    "New_msg = msg.replace('world', 'universe')\n",
    "print(New_msg + '\\n' + msg)\n",
    "print('\\n')\n",
    "\n",
    "name1 = 'I'\n",
    "name2 = 'Python'\n",
    "msg3 = '{} loves {}'.format(name1,name2)\n",
    "msg4 = f'{name1} loves {name2}'\n",
    "print(msg3)\n",
    "print(msg4)"
   ]
  },
  {
   "cell_type": "code",
   "execution_count": 19,
   "id": "a94849e1",
   "metadata": {},
   "outputs": [
    {
     "name": "stdout",
     "output_type": "stream",
     "text": [
      "['.ipynb_checkpoints', '1. Basic Data Types and Data Structure.ipynb', '2. List and Dictionary Comprehensions.ipynb', '3. Text Manipulation and Regular Expression.ipynb', '4. Basic Grammers if, while, for.ipynb', '5. Functions.ipynb', '6. It is all about class.ipynb']\n",
      "True\n",
      "\n",
      "\n",
      ".txt\n",
      "samp\n",
      "samplefile.txt\n",
      "\n",
      "\n",
      "True\n"
     ]
    }
   ],
   "source": [
    "# matching text at the start or end of a string\n",
    "import os\n",
    "filenames = os.listdir('.')\n",
    "result1 = [name for name in filenames if name.endswith(('.ipynb','.ipynb_checkpoints'))] \n",
    "\n",
    "# use of a tuple iterable\n",
    "print(result1)\n",
    "# use of any function and a tuple iterable\n",
    "print(any(name.endswith(('.ipynb','ipynb_checkpoints')) for name in filenames))\n",
    "# The next line of code has the same results as the previous line\n",
    "# print(any((name.endswith(('.ipynb','ipynb_checkpoints')) for name in filenames)))\n",
    "print('\\n')\n",
    "\n",
    "sample_file = 'samplefile.txt'\n",
    "print(sample_file[-4:])\n",
    "print(sample_file[:4])\n",
    "print(sample_file[:])\n",
    "print('\\n')\n",
    "\n",
    "if sample_file[-4:] == '.txt':\n",
    "    print(str(True))\n",
    "else: \n",
    "    print(str(False))"
   ]
  },
  {
   "cell_type": "code",
   "execution_count": 20,
   "id": "8858b124",
   "metadata": {},
   "outputs": [
    {
     "name": "stdout",
     "output_type": "stream",
     "text": [
      "abcdefghijklmnopqrstuvwxyzABCDEFGHIJKLMNOPQRSTUVWXYZ\n",
      " M u Z w E y I S g R m l s o l W p w U j F W l x c T W t m g p T b J T Q R f c R K J s u R D E h G T y X W V t a O D b L k d X  \n",
      "\n",
      "\n",
      "M u Z w E y I S g R m l s o l W p w U j F W l x c T W t m g p T b J T Q R f c R K J s u R D E h G T y X W V t a O D b L k d X\n",
      "M u Z w E y I S g R m l s o l W p w U j F W l x c T W t m g p T b J T Q R f c R K J s u R D E h G T y X W V t a O D b L k d X \n",
      "M u Z w E y I S g R m l s o l W p w U j F W l x c T W t m g p T b J T Q R f c R K J s u R D E h G T y X W V t a O D b L k d X\n",
      "\n",
      "\n",
      "MuZwEyISgRmlsolWpwUjFWlxcTWtmgpTbJTQRfcRKJsuRDEhGTyXWVtaODbLkdX\n"
     ]
    }
   ],
   "source": [
    "# stripping unwanted characters from strings using strip()\n",
    "import string \n",
    "import random \n",
    "letters = string.ascii_letters\n",
    "print(letters)\n",
    "value = random.randint(1,1e2)\n",
    "test_string = ''\n",
    "for i in range(value):\n",
    "    test_string += random.choice(letters)\n",
    "    test_string += \" \"\n",
    "print(\" \"+test_string+\" \")\n",
    "print('\\n')\n",
    "\n",
    "result1 = test_string.strip() # remove whitespaces from the beginning or end of new_string\n",
    "print(result1)\n",
    "result2 = test_string.lstrip() # remove whitespaces from the left side of new_string\n",
    "print(result2)\n",
    "result3 = test_string.rstrip() # remove whitespaces from the right side of new_string\n",
    "print(result3)\n",
    "print('\\n')\n",
    "\n",
    "result4 = test_string.replace(' ', '')\n",
    "print(result4)"
   ]
  },
  {
   "cell_type": "code",
   "execution_count": 21,
   "id": "80076f07",
   "metadata": {},
   "outputs": [
    {
     "name": "stdout",
     "output_type": "stream",
     "text": [
      "102 101\n",
      "pythonaawrpythonqeeeeeeeervpython$$$a\n"
     ]
    }
   ],
   "source": [
    "# sanitizing and cleaning up text using translate()\n",
    "print(ord('f'), ord('e'))\n",
    "remap = {\n",
    "    ord('p'): 'python',\n",
    "    ord('e'): 'eeeeeeee',\n",
    "    ord('m'): '$$$'\n",
    "}\n",
    "string = \"paawrpqervpma\"\n",
    "print(string.translate(remap))"
   ]
  },
  {
   "cell_type": "code",
   "execution_count": 22,
   "id": "268a9044",
   "metadata": {},
   "outputs": [
    {
     "name": "stdout",
     "output_type": "stream",
     "text": [
      "you love python\n",
      "youlovepython\n",
      "you,love,python\n",
      "you,love,python\n",
      "\n",
      "\n",
      "you love python\n",
      "you love python\n"
     ]
    }
   ],
   "source": [
    "# combining and concatenating strings using join()\n",
    "sample_list = ['you', 'love', 'python']\n",
    "result1 = ' '.join(sample_list)\n",
    "print(result1)\n",
    "result2 = ''.join(sample_list)\n",
    "print(result2)\n",
    "result3 = ','.join(sample_list)\n",
    "print(result3)\n",
    "result4 = ','.join(str(item) for item in sample_list)\n",
    "print(result4)\n",
    "print('\\n')\n",
    "\n",
    "sample_text1 = 'you'\n",
    "sample_text2 = 'love python'\n",
    "result5 = sample_text1 + ' ' + sample_text2\n",
    "print(result5)\n",
    "print(sample_text1, sample_text2, sep=' ')"
   ]
  },
  {
   "cell_type": "markdown",
   "id": "14b01265",
   "metadata": {},
   "source": [
    "### **bool**\n",
    "#### False values: \n",
    "    *  False\n",
    "    *  None\n",
    "    *  zero of any numeric type\n",
    "    *  Any empty sequence: [], (), ''\n",
    "    *  Any empty mapping: {}"
   ]
  },
  {
   "cell_type": "code",
   "execution_count": 23,
   "id": "e7b9f4e6",
   "metadata": {},
   "outputs": [
    {
     "name": "stdout",
     "output_type": "stream",
     "text": [
      "<class 'bool'> <class 'bool'>\n",
      "True\n",
      "False\n"
     ]
    }
   ],
   "source": [
    "t = True\n",
    "f = False\n",
    "\n",
    "print(type(t), type(f))\n",
    "if t:\n",
    "    print('True')\n",
    "if not f:\n",
    "    print('False')"
   ]
  },
  {
   "cell_type": "markdown",
   "id": "0bc79040",
   "metadata": {},
   "source": [
    "### **class**"
   ]
  },
  {
   "cell_type": "code",
   "execution_count": 24,
   "id": "c5c8d6da",
   "metadata": {},
   "outputs": [
    {
     "name": "stdout",
     "output_type": "stream",
     "text": [
      "Employee(xyz, 30, $1000000) <class '__main__.Employee'>\n",
      "\n",
      "\n",
      "[Employee(xyz, 30, $1000000)]\n",
      "\n",
      "\n",
      "[Employee(xyz, 30, $1000000), <class '__main__.Employee'>]\n"
     ]
    }
   ],
   "source": [
    "# class is also a data type. In fact, int, bool, and float are also a class\n",
    "class Employee(object):\n",
    "    def __init__(self, name, age, salary):\n",
    "        self.name = name\n",
    "        self.age = age\n",
    "        self.salary = salary\n",
    "    def __repr__(self):\n",
    "        return '{}({}, {}, ${})'.format(type(self).__name__, self.name, self.age, self.salary)\n",
    "\n",
    "employee1 = Employee('xyz', 30, 1000000)\n",
    "print(employee1, type(employee1))\n",
    "print('\\n')\n",
    "\n",
    "list1 = []\n",
    "# append an instance of the Employee class\n",
    "list1.append(employee1)\n",
    "print(list1)\n",
    "print('\\n')\n",
    "\n",
    "# append Employee class\n",
    "list1.append(Employee)\n",
    "print(list1)"
   ]
  },
  {
   "cell_type": "markdown",
   "id": "640d7bfc",
   "metadata": {},
   "source": [
    "### **function**"
   ]
  },
  {
   "cell_type": "code",
   "execution_count": 25,
   "id": "72a3fa53",
   "metadata": {},
   "outputs": [
    {
     "name": "stdout",
     "output_type": "stream",
     "text": [
      "<function func1 at 0x00000293E6D09EE0> <class 'function'>\n",
      "4\n",
      "\n",
      "\n",
      "[4]\n",
      "[4, <function func1 at 0x00000293E6D09EE0>]\n"
     ]
    }
   ],
   "source": [
    "def func1(x):\n",
    "    return x**2\n",
    "\n",
    "print(func1, type(func1))\n",
    "print(func1(2))\n",
    "print('\\n')\n",
    "\n",
    "list1 = []\n",
    "# append a value\n",
    "list1.append(func1(2))\n",
    "print(list1)\n",
    "\n",
    "# append func1\n",
    "list1.append(func1)\n",
    "print(list1)"
   ]
  },
  {
   "cell_type": "markdown",
   "id": "b9d9496f",
   "metadata": {},
   "source": [
    "### **special numbers**"
   ]
  },
  {
   "cell_type": "code",
   "execution_count": 26,
   "id": "b82464cf",
   "metadata": {},
   "outputs": [
    {
     "name": "stdout",
     "output_type": "stream",
     "text": [
      "inf -inf nan\n",
      "\n",
      "\n",
      "inf\n",
      "\n",
      "\n",
      "True\n",
      "False\n"
     ]
    }
   ],
   "source": [
    "# use of negative and positive infinity and NaNs; NaN -> not a number\n",
    "import random\n",
    "import math\n",
    "\n",
    "sample1 = float('inf')\n",
    "sample2 = float('-inf')\n",
    "sample3 = float('nan')\n",
    "print(sample1, sample2, sample3)\n",
    "print('\\n')\n",
    "\n",
    "a = random.randint(1,100)\n",
    "a += sample1\n",
    "print(a)\n",
    "print('\\n')\n",
    "\n",
    "result1 = math.isinf(sample1)\n",
    "print(result1)\n",
    "result2 = math.isnan(sample1)\n",
    "print(result2)"
   ]
  },
  {
   "cell_type": "code",
   "execution_count": null,
   "id": "81648c45",
   "metadata": {},
   "outputs": [],
   "source": []
  },
  {
   "cell_type": "code",
   "execution_count": null,
   "id": "62e492de",
   "metadata": {},
   "outputs": [],
   "source": []
  }
 ],
 "metadata": {
  "kernelspec": {
   "display_name": "Python 3 (ipykernel)",
   "language": "python",
   "name": "python3"
  },
  "language_info": {
   "codemirror_mode": {
    "name": "ipython",
    "version": 3
   },
   "file_extension": ".py",
   "mimetype": "text/x-python",
   "name": "python",
   "nbconvert_exporter": "python",
   "pygments_lexer": "ipython3",
   "version": "3.9.5"
  }
 },
 "nbformat": 4,
 "nbformat_minor": 5
}
